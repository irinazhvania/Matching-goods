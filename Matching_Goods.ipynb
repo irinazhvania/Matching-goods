{
 "cells": [
  {
   "cell_type": "markdown",
   "id": "924e6970",
   "metadata": {},
   "source": [
    "# Мэтчинг товаров маркетплейса\n",
    "\n",
    "В качестве исходных данных дается набор векторов (около 3 млн), выборка для тренировки и валидации модели. В выборках тренировки и валидации дан набор векторов и соответствующие нгаиболее \"близкие\" векторы из базового набора.\n",
    "\n",
    "**Задача:** разработать алгоритм, который будет для заданного вектора выдавать наиболее близкий и базового набора."
   ]
  },
  {
   "cell_type": "raw",
   "id": "137c23c5",
   "metadata": {},
   "source": [
    "!pip install mlxtend "
   ]
  },
  {
   "cell_type": "code",
   "execution_count": 126,
   "id": "424e17cb-ae43-475d-bd00-a3bb36a51cb5",
   "metadata": {},
   "outputs": [],
   "source": [
    "from catboost import CatBoostClassifier\n",
    "import faiss\n",
    "from lightgbm import LGBMClassifier\n",
    "from matplotlib import pyplot as plt\n",
    "from mlxtend.classifier import StackingClassifier\n",
    "import numpy as np\n",
    "import pandas as pd\n",
    "import seaborn as sns\n",
    "from sklearn.preprocessing import StandardScaler, MinMaxScaler\n",
    "from sklearn.utils import shuffle\n",
    "from sklearn.linear_model import LogisticRegression\n",
    "from sklearn.metrics import accuracy_score\n",
    "from sklearn.model_selection import train_test_split, GridSearchCV\n",
    "from sklearn.model_selection import RandomizedSearchCV\n",
    "from tqdm.notebook import tqdm"
   ]
  },
  {
   "cell_type": "markdown",
   "id": "ea67f7f3-16eb-45e8-a14d-bd4814accf32",
   "metadata": {},
   "source": [
    "# Загрузка данных"
   ]
  },
  {
   "cell_type": "markdown",
   "id": "ad86b92e-6d1f-42ab-aaec-4b34f21021e2",
   "metadata": {},
   "source": [
    "Base"
   ]
  },
  {
   "cell_type": "code",
   "execution_count": 2,
   "id": "9137b16a-b95a-4346-8e9c-252159558b82",
   "metadata": {},
   "outputs": [
    {
     "name": "stdout",
     "output_type": "stream",
     "text": [
      "(2918139, 72)\n"
     ]
    },
    {
     "data": {
      "text/html": [
       "<div>\n",
       "<style scoped>\n",
       "    .dataframe tbody tr th:only-of-type {\n",
       "        vertical-align: middle;\n",
       "    }\n",
       "\n",
       "    .dataframe tbody tr th {\n",
       "        vertical-align: top;\n",
       "    }\n",
       "\n",
       "    .dataframe thead th {\n",
       "        text-align: right;\n",
       "    }\n",
       "</style>\n",
       "<table border=\"1\" class=\"dataframe\">\n",
       "  <thead>\n",
       "    <tr style=\"text-align: right;\">\n",
       "      <th></th>\n",
       "      <th>0</th>\n",
       "      <th>1</th>\n",
       "      <th>2</th>\n",
       "      <th>3</th>\n",
       "      <th>4</th>\n",
       "      <th>5</th>\n",
       "      <th>6</th>\n",
       "      <th>7</th>\n",
       "      <th>8</th>\n",
       "      <th>9</th>\n",
       "      <th>...</th>\n",
       "      <th>62</th>\n",
       "      <th>63</th>\n",
       "      <th>64</th>\n",
       "      <th>65</th>\n",
       "      <th>66</th>\n",
       "      <th>67</th>\n",
       "      <th>68</th>\n",
       "      <th>69</th>\n",
       "      <th>70</th>\n",
       "      <th>71</th>\n",
       "    </tr>\n",
       "    <tr>\n",
       "      <th>Id</th>\n",
       "      <th></th>\n",
       "      <th></th>\n",
       "      <th></th>\n",
       "      <th></th>\n",
       "      <th></th>\n",
       "      <th></th>\n",
       "      <th></th>\n",
       "      <th></th>\n",
       "      <th></th>\n",
       "      <th></th>\n",
       "      <th></th>\n",
       "      <th></th>\n",
       "      <th></th>\n",
       "      <th></th>\n",
       "      <th></th>\n",
       "      <th></th>\n",
       "      <th></th>\n",
       "      <th></th>\n",
       "      <th></th>\n",
       "      <th></th>\n",
       "      <th></th>\n",
       "    </tr>\n",
       "  </thead>\n",
       "  <tbody>\n",
       "    <tr>\n",
       "      <th>0-base</th>\n",
       "      <td>-115.083890</td>\n",
       "      <td>11.152912</td>\n",
       "      <td>-64.426760</td>\n",
       "      <td>-118.88089</td>\n",
       "      <td>216.482440</td>\n",
       "      <td>-104.698060</td>\n",
       "      <td>-469.070588</td>\n",
       "      <td>44.348083</td>\n",
       "      <td>120.915344</td>\n",
       "      <td>181.449700</td>\n",
       "      <td>...</td>\n",
       "      <td>-42.808693</td>\n",
       "      <td>38.800827</td>\n",
       "      <td>-151.76218</td>\n",
       "      <td>-74.389090</td>\n",
       "      <td>63.66634</td>\n",
       "      <td>-4.703861</td>\n",
       "      <td>92.933610</td>\n",
       "      <td>115.269190</td>\n",
       "      <td>-112.756640</td>\n",
       "      <td>-60.830353</td>\n",
       "    </tr>\n",
       "    <tr>\n",
       "      <th>1-base</th>\n",
       "      <td>-34.562202</td>\n",
       "      <td>13.332763</td>\n",
       "      <td>-69.787610</td>\n",
       "      <td>-166.53348</td>\n",
       "      <td>57.680607</td>\n",
       "      <td>-86.098370</td>\n",
       "      <td>-85.076666</td>\n",
       "      <td>-35.637436</td>\n",
       "      <td>119.718636</td>\n",
       "      <td>195.234190</td>\n",
       "      <td>...</td>\n",
       "      <td>-117.767525</td>\n",
       "      <td>41.100000</td>\n",
       "      <td>-157.82940</td>\n",
       "      <td>-94.446806</td>\n",
       "      <td>68.20211</td>\n",
       "      <td>24.346846</td>\n",
       "      <td>179.937930</td>\n",
       "      <td>116.834000</td>\n",
       "      <td>-84.888941</td>\n",
       "      <td>-59.524610</td>\n",
       "    </tr>\n",
       "    <tr>\n",
       "      <th>2-base</th>\n",
       "      <td>-54.233746</td>\n",
       "      <td>6.379371</td>\n",
       "      <td>-29.210136</td>\n",
       "      <td>-133.41383</td>\n",
       "      <td>150.895830</td>\n",
       "      <td>-99.435326</td>\n",
       "      <td>52.554795</td>\n",
       "      <td>62.381706</td>\n",
       "      <td>128.951450</td>\n",
       "      <td>164.381470</td>\n",
       "      <td>...</td>\n",
       "      <td>-76.397800</td>\n",
       "      <td>46.011803</td>\n",
       "      <td>-207.14442</td>\n",
       "      <td>127.325570</td>\n",
       "      <td>65.56618</td>\n",
       "      <td>66.325680</td>\n",
       "      <td>81.073490</td>\n",
       "      <td>116.594154</td>\n",
       "      <td>-1074.464888</td>\n",
       "      <td>-32.527206</td>\n",
       "    </tr>\n",
       "    <tr>\n",
       "      <th>3-base</th>\n",
       "      <td>-87.520130</td>\n",
       "      <td>4.037884</td>\n",
       "      <td>-87.803030</td>\n",
       "      <td>-185.06763</td>\n",
       "      <td>76.369540</td>\n",
       "      <td>-58.985165</td>\n",
       "      <td>-383.182845</td>\n",
       "      <td>-33.611237</td>\n",
       "      <td>122.031910</td>\n",
       "      <td>136.233580</td>\n",
       "      <td>...</td>\n",
       "      <td>-70.647940</td>\n",
       "      <td>-6.358921</td>\n",
       "      <td>-147.20105</td>\n",
       "      <td>-37.692750</td>\n",
       "      <td>66.20289</td>\n",
       "      <td>-20.566910</td>\n",
       "      <td>137.206940</td>\n",
       "      <td>117.474100</td>\n",
       "      <td>-1074.464888</td>\n",
       "      <td>-72.915490</td>\n",
       "    </tr>\n",
       "    <tr>\n",
       "      <th>4-base</th>\n",
       "      <td>-72.743850</td>\n",
       "      <td>6.522049</td>\n",
       "      <td>43.671265</td>\n",
       "      <td>-140.60803</td>\n",
       "      <td>5.820023</td>\n",
       "      <td>-112.074080</td>\n",
       "      <td>-397.711282</td>\n",
       "      <td>45.182500</td>\n",
       "      <td>122.167180</td>\n",
       "      <td>112.119064</td>\n",
       "      <td>...</td>\n",
       "      <td>-57.199104</td>\n",
       "      <td>56.642403</td>\n",
       "      <td>-159.35184</td>\n",
       "      <td>85.944724</td>\n",
       "      <td>66.76632</td>\n",
       "      <td>-2.505783</td>\n",
       "      <td>65.315285</td>\n",
       "      <td>135.051590</td>\n",
       "      <td>-1074.464888</td>\n",
       "      <td>0.319401</td>\n",
       "    </tr>\n",
       "  </tbody>\n",
       "</table>\n",
       "<p>5 rows × 72 columns</p>\n",
       "</div>"
      ],
      "text/plain": [
       "                 0          1          2          3           4           5  \\\n",
       "Id                                                                            \n",
       "0-base -115.083890  11.152912 -64.426760 -118.88089  216.482440 -104.698060   \n",
       "1-base  -34.562202  13.332763 -69.787610 -166.53348   57.680607  -86.098370   \n",
       "2-base  -54.233746   6.379371 -29.210136 -133.41383  150.895830  -99.435326   \n",
       "3-base  -87.520130   4.037884 -87.803030 -185.06763   76.369540  -58.985165   \n",
       "4-base  -72.743850   6.522049  43.671265 -140.60803    5.820023 -112.074080   \n",
       "\n",
       "                 6          7           8           9  ...          62  \\\n",
       "Id                                                     ...               \n",
       "0-base -469.070588  44.348083  120.915344  181.449700  ...  -42.808693   \n",
       "1-base  -85.076666 -35.637436  119.718636  195.234190  ... -117.767525   \n",
       "2-base   52.554795  62.381706  128.951450  164.381470  ...  -76.397800   \n",
       "3-base -383.182845 -33.611237  122.031910  136.233580  ...  -70.647940   \n",
       "4-base -397.711282  45.182500  122.167180  112.119064  ...  -57.199104   \n",
       "\n",
       "               63         64          65        66         67          68  \\\n",
       "Id                                                                          \n",
       "0-base  38.800827 -151.76218  -74.389090  63.66634  -4.703861   92.933610   \n",
       "1-base  41.100000 -157.82940  -94.446806  68.20211  24.346846  179.937930   \n",
       "2-base  46.011803 -207.14442  127.325570  65.56618  66.325680   81.073490   \n",
       "3-base  -6.358921 -147.20105  -37.692750  66.20289 -20.566910  137.206940   \n",
       "4-base  56.642403 -159.35184   85.944724  66.76632  -2.505783   65.315285   \n",
       "\n",
       "                69           70         71  \n",
       "Id                                          \n",
       "0-base  115.269190  -112.756640 -60.830353  \n",
       "1-base  116.834000   -84.888941 -59.524610  \n",
       "2-base  116.594154 -1074.464888 -32.527206  \n",
       "3-base  117.474100 -1074.464888 -72.915490  \n",
       "4-base  135.051590 -1074.464888   0.319401  \n",
       "\n",
       "[5 rows x 72 columns]"
      ]
     },
     "execution_count": 2,
     "metadata": {},
     "output_type": "execute_result"
    }
   ],
   "source": [
    "df_base = pd.read_csv(\"base.csv\", index_col=0)\n",
    "print(df_base.shape)\n",
    "df_base.head()"
   ]
  },
  {
   "cell_type": "code",
   "execution_count": 3,
   "id": "02ecff53-0da4-4a79-8bf4-458972bd730c",
   "metadata": {},
   "outputs": [],
   "source": [
    "dims = df_base.shape[1]"
   ]
  },
  {
   "cell_type": "markdown",
   "id": "254988a9",
   "metadata": {},
   "source": [
    "Train"
   ]
  },
  {
   "cell_type": "code",
   "execution_count": 4,
   "id": "af9c32b6",
   "metadata": {},
   "outputs": [
    {
     "data": {
      "text/html": [
       "<div>\n",
       "<style scoped>\n",
       "    .dataframe tbody tr th:only-of-type {\n",
       "        vertical-align: middle;\n",
       "    }\n",
       "\n",
       "    .dataframe tbody tr th {\n",
       "        vertical-align: top;\n",
       "    }\n",
       "\n",
       "    .dataframe thead th {\n",
       "        text-align: right;\n",
       "    }\n",
       "</style>\n",
       "<table border=\"1\" class=\"dataframe\">\n",
       "  <thead>\n",
       "    <tr style=\"text-align: right;\">\n",
       "      <th></th>\n",
       "      <th>0</th>\n",
       "      <th>1</th>\n",
       "      <th>2</th>\n",
       "      <th>3</th>\n",
       "      <th>4</th>\n",
       "      <th>5</th>\n",
       "      <th>6</th>\n",
       "      <th>7</th>\n",
       "      <th>8</th>\n",
       "      <th>9</th>\n",
       "      <th>...</th>\n",
       "      <th>63</th>\n",
       "      <th>64</th>\n",
       "      <th>65</th>\n",
       "      <th>66</th>\n",
       "      <th>67</th>\n",
       "      <th>68</th>\n",
       "      <th>69</th>\n",
       "      <th>70</th>\n",
       "      <th>71</th>\n",
       "      <th>Target</th>\n",
       "    </tr>\n",
       "    <tr>\n",
       "      <th>Id</th>\n",
       "      <th></th>\n",
       "      <th></th>\n",
       "      <th></th>\n",
       "      <th></th>\n",
       "      <th></th>\n",
       "      <th></th>\n",
       "      <th></th>\n",
       "      <th></th>\n",
       "      <th></th>\n",
       "      <th></th>\n",
       "      <th></th>\n",
       "      <th></th>\n",
       "      <th></th>\n",
       "      <th></th>\n",
       "      <th></th>\n",
       "      <th></th>\n",
       "      <th></th>\n",
       "      <th></th>\n",
       "      <th></th>\n",
       "      <th></th>\n",
       "      <th></th>\n",
       "    </tr>\n",
       "  </thead>\n",
       "  <tbody>\n",
       "    <tr>\n",
       "      <th>0-query</th>\n",
       "      <td>-53.882748</td>\n",
       "      <td>17.971436</td>\n",
       "      <td>-42.117104</td>\n",
       "      <td>-183.93668</td>\n",
       "      <td>187.517490</td>\n",
       "      <td>-87.144930</td>\n",
       "      <td>-347.360606</td>\n",
       "      <td>38.307602</td>\n",
       "      <td>109.085560</td>\n",
       "      <td>30.413513</td>\n",
       "      <td>...</td>\n",
       "      <td>70.107360</td>\n",
       "      <td>-155.80257</td>\n",
       "      <td>-101.965943</td>\n",
       "      <td>65.903790</td>\n",
       "      <td>34.457500</td>\n",
       "      <td>62.642094</td>\n",
       "      <td>134.763600</td>\n",
       "      <td>-415.750254</td>\n",
       "      <td>-25.958572</td>\n",
       "      <td>675816-base</td>\n",
       "    </tr>\n",
       "    <tr>\n",
       "      <th>1-query</th>\n",
       "      <td>-87.776370</td>\n",
       "      <td>6.806268</td>\n",
       "      <td>-32.054546</td>\n",
       "      <td>-177.26039</td>\n",
       "      <td>120.803330</td>\n",
       "      <td>-83.810590</td>\n",
       "      <td>-94.572749</td>\n",
       "      <td>-78.433090</td>\n",
       "      <td>124.915900</td>\n",
       "      <td>140.331070</td>\n",
       "      <td>...</td>\n",
       "      <td>4.669178</td>\n",
       "      <td>-151.69771</td>\n",
       "      <td>-1.638704</td>\n",
       "      <td>68.170876</td>\n",
       "      <td>25.096191</td>\n",
       "      <td>89.974976</td>\n",
       "      <td>130.589630</td>\n",
       "      <td>-1035.092211</td>\n",
       "      <td>-51.276833</td>\n",
       "      <td>366656-base</td>\n",
       "    </tr>\n",
       "    <tr>\n",
       "      <th>2-query</th>\n",
       "      <td>-49.979565</td>\n",
       "      <td>3.841486</td>\n",
       "      <td>-116.118590</td>\n",
       "      <td>-180.40198</td>\n",
       "      <td>190.128430</td>\n",
       "      <td>-50.837620</td>\n",
       "      <td>26.943937</td>\n",
       "      <td>-30.447489</td>\n",
       "      <td>125.771164</td>\n",
       "      <td>211.607820</td>\n",
       "      <td>...</td>\n",
       "      <td>78.039764</td>\n",
       "      <td>-169.14620</td>\n",
       "      <td>82.144186</td>\n",
       "      <td>66.008220</td>\n",
       "      <td>18.400496</td>\n",
       "      <td>212.409730</td>\n",
       "      <td>121.931470</td>\n",
       "      <td>-1074.464888</td>\n",
       "      <td>-22.547178</td>\n",
       "      <td>1447819-base</td>\n",
       "    </tr>\n",
       "    <tr>\n",
       "      <th>3-query</th>\n",
       "      <td>-47.810562</td>\n",
       "      <td>9.086598</td>\n",
       "      <td>-115.401695</td>\n",
       "      <td>-121.01136</td>\n",
       "      <td>94.652840</td>\n",
       "      <td>-109.255410</td>\n",
       "      <td>-775.150134</td>\n",
       "      <td>79.186520</td>\n",
       "      <td>124.003100</td>\n",
       "      <td>242.650650</td>\n",
       "      <td>...</td>\n",
       "      <td>44.515266</td>\n",
       "      <td>-145.41675</td>\n",
       "      <td>93.990981</td>\n",
       "      <td>64.131350</td>\n",
       "      <td>106.061920</td>\n",
       "      <td>83.178760</td>\n",
       "      <td>118.277725</td>\n",
       "      <td>-1074.464888</td>\n",
       "      <td>-19.902788</td>\n",
       "      <td>1472602-base</td>\n",
       "    </tr>\n",
       "    <tr>\n",
       "      <th>4-query</th>\n",
       "      <td>-79.632126</td>\n",
       "      <td>14.442886</td>\n",
       "      <td>-58.903397</td>\n",
       "      <td>-147.05254</td>\n",
       "      <td>57.127068</td>\n",
       "      <td>-16.239529</td>\n",
       "      <td>-321.317964</td>\n",
       "      <td>45.984676</td>\n",
       "      <td>125.941284</td>\n",
       "      <td>103.392670</td>\n",
       "      <td>...</td>\n",
       "      <td>45.028910</td>\n",
       "      <td>-196.09207</td>\n",
       "      <td>-117.626337</td>\n",
       "      <td>66.926220</td>\n",
       "      <td>42.456170</td>\n",
       "      <td>77.621765</td>\n",
       "      <td>92.479930</td>\n",
       "      <td>-1074.464888</td>\n",
       "      <td>-21.149351</td>\n",
       "      <td>717819-base</td>\n",
       "    </tr>\n",
       "  </tbody>\n",
       "</table>\n",
       "<p>5 rows × 73 columns</p>\n",
       "</div>"
      ],
      "text/plain": [
       "                 0          1           2          3           4           5  \\\n",
       "Id                                                                             \n",
       "0-query -53.882748  17.971436  -42.117104 -183.93668  187.517490  -87.144930   \n",
       "1-query -87.776370   6.806268  -32.054546 -177.26039  120.803330  -83.810590   \n",
       "2-query -49.979565   3.841486 -116.118590 -180.40198  190.128430  -50.837620   \n",
       "3-query -47.810562   9.086598 -115.401695 -121.01136   94.652840 -109.255410   \n",
       "4-query -79.632126  14.442886  -58.903397 -147.05254   57.127068  -16.239529   \n",
       "\n",
       "                  6          7           8           9  ...         63  \\\n",
       "Id                                                      ...              \n",
       "0-query -347.360606  38.307602  109.085560   30.413513  ...  70.107360   \n",
       "1-query  -94.572749 -78.433090  124.915900  140.331070  ...   4.669178   \n",
       "2-query   26.943937 -30.447489  125.771164  211.607820  ...  78.039764   \n",
       "3-query -775.150134  79.186520  124.003100  242.650650  ...  44.515266   \n",
       "4-query -321.317964  45.984676  125.941284  103.392670  ...  45.028910   \n",
       "\n",
       "                64          65         66          67          68          69  \\\n",
       "Id                                                                              \n",
       "0-query -155.80257 -101.965943  65.903790   34.457500   62.642094  134.763600   \n",
       "1-query -151.69771   -1.638704  68.170876   25.096191   89.974976  130.589630   \n",
       "2-query -169.14620   82.144186  66.008220   18.400496  212.409730  121.931470   \n",
       "3-query -145.41675   93.990981  64.131350  106.061920   83.178760  118.277725   \n",
       "4-query -196.09207 -117.626337  66.926220   42.456170   77.621765   92.479930   \n",
       "\n",
       "                  70         71        Target  \n",
       "Id                                             \n",
       "0-query  -415.750254 -25.958572   675816-base  \n",
       "1-query -1035.092211 -51.276833   366656-base  \n",
       "2-query -1074.464888 -22.547178  1447819-base  \n",
       "3-query -1074.464888 -19.902788  1472602-base  \n",
       "4-query -1074.464888 -21.149351   717819-base  \n",
       "\n",
       "[5 rows x 73 columns]"
      ]
     },
     "execution_count": 4,
     "metadata": {},
     "output_type": "execute_result"
    }
   ],
   "source": [
    "df_train = pd.read_csv(\"train.csv\", index_col=0)\n",
    "df_train.head()"
   ]
  },
  {
   "cell_type": "code",
   "execution_count": 5,
   "id": "dee0599f",
   "metadata": {},
   "outputs": [],
   "source": [
    "targets = df_train[\"Target\"]\n",
    "df_train.drop(\"Target\", axis=1, inplace=True)"
   ]
  },
  {
   "cell_type": "markdown",
   "id": "8cdf0345",
   "metadata": {},
   "source": [
    "## Исследование данных"
   ]
  },
  {
   "cell_type": "markdown",
   "id": "c06d3867",
   "metadata": {},
   "source": [
    "Распределение каждого признака"
   ]
  },
  {
   "cell_type": "code",
   "execution_count": 6,
   "id": "f5f35530",
   "metadata": {},
   "outputs": [
    {
     "data": {
      "image/png": "[encoded data removed]",
      "text/plain": [
       "<Figure size 1500x2000 with 72 Axes>"
      ]
     },
     "metadata": {},
     "output_type": "display_data"
    }
   ],
   "source": [
    "plt.figure(figsize=(15,20))\n",
    "for i in range(df_base.shape[1]):\n",
    "    plt.subplot(dims//3, 3, i+1)\n",
    "    plt.hist(df_base[str(i)], bins=100)\n",
    "    plt.title(i)\n",
    "plt.show()"
   ]
  },
  {
   "cell_type": "markdown",
   "id": "10e316c0",
   "metadata": {},
   "source": [
    "Почти все признаки имеют распределения, похожие на нормальное. Но есть некоторые, которые больше похожи на шум (33, 44, 59, 65), есть с очень неравномерным распределением и узкими аномальными пиками (6, 21, 25, 70)."
   ]
  },
  {
   "cell_type": "markdown",
   "id": "64edce50",
   "metadata": {},
   "source": [
    "Посмотрим есть ли там линейная корреляция"
   ]
  },
  {
   "cell_type": "code",
   "execution_count": 7,
   "id": "d05c14c9",
   "metadata": {},
   "outputs": [
    {
     "data": {
      "image/png": "[encoded data removed]",
      "text/plain": [
       "<Figure size 1500x1000 with 2 Axes>"
      ]
     },
     "metadata": {},
     "output_type": "display_data"
    }
   ],
   "source": [
    "plt.figure(figsize=(15,10))\n",
    "sns.heatmap(df_base.corr())\n",
    "plt.title('Correlation matrix')\n",
    "plt.show()"
   ]
  },
  {
   "cell_type": "markdown",
   "id": "39639820",
   "metadata": {},
   "source": [
    "Никакой."
   ]
  },
  {
   "cell_type": "markdown",
   "id": "4cdb037d",
   "metadata": {},
   "source": [
    "## Корректировка набора признаков"
   ]
  },
  {
   "cell_type": "markdown",
   "id": "aba75d4d",
   "metadata": {},
   "source": [
    "### Удаление признаков с аномальными распределениями и шумовых (оставляем только те, которые выглядят нормально)"
   ]
  },
  {
   "cell_type": "code",
   "execution_count": 6,
   "id": "4bcafb0c",
   "metadata": {},
   "outputs": [
    {
     "data": {
      "text/plain": [
       "(2918139, 64)"
      ]
     },
     "execution_count": 6,
     "metadata": {},
     "output_type": "execute_result"
    }
   ],
   "source": [
    "noise = ['6', '21', '25', '33', '44', '59', '65', '70']\n",
    "df_base_droped = df_base.drop(noise, axis=1)  \n",
    "df_train_droped = df_train.drop(noise, axis=1)\n",
    "df_base_droped.shape"
   ]
  },
  {
   "cell_type": "markdown",
   "id": "6efeb0cd",
   "metadata": {},
   "source": [
    "### Нормировка всех признаков"
   ]
  },
  {
   "cell_type": "code",
   "execution_count": 7,
   "id": "568e71a2",
   "metadata": {},
   "outputs": [
    {
     "data": {
      "text/html": [
       "<div>\n",
       "<style scoped>\n",
       "    .dataframe tbody tr th:only-of-type {\n",
       "        vertical-align: middle;\n",
       "    }\n",
       "\n",
       "    .dataframe tbody tr th {\n",
       "        vertical-align: top;\n",
       "    }\n",
       "\n",
       "    .dataframe thead th {\n",
       "        text-align: right;\n",
       "    }\n",
       "</style>\n",
       "<table border=\"1\" class=\"dataframe\">\n",
       "  <thead>\n",
       "    <tr style=\"text-align: right;\">\n",
       "      <th></th>\n",
       "      <th>0</th>\n",
       "      <th>1</th>\n",
       "      <th>2</th>\n",
       "      <th>3</th>\n",
       "      <th>4</th>\n",
       "      <th>5</th>\n",
       "      <th>7</th>\n",
       "      <th>8</th>\n",
       "      <th>9</th>\n",
       "      <th>10</th>\n",
       "      <th>...</th>\n",
       "      <th>60</th>\n",
       "      <th>61</th>\n",
       "      <th>62</th>\n",
       "      <th>63</th>\n",
       "      <th>64</th>\n",
       "      <th>66</th>\n",
       "      <th>67</th>\n",
       "      <th>68</th>\n",
       "      <th>69</th>\n",
       "      <th>71</th>\n",
       "    </tr>\n",
       "    <tr>\n",
       "      <th>Id</th>\n",
       "      <th></th>\n",
       "      <th></th>\n",
       "      <th></th>\n",
       "      <th></th>\n",
       "      <th></th>\n",
       "      <th></th>\n",
       "      <th></th>\n",
       "      <th></th>\n",
       "      <th></th>\n",
       "      <th></th>\n",
       "      <th></th>\n",
       "      <th></th>\n",
       "      <th></th>\n",
       "      <th></th>\n",
       "      <th></th>\n",
       "      <th></th>\n",
       "      <th></th>\n",
       "      <th></th>\n",
       "      <th></th>\n",
       "      <th></th>\n",
       "      <th></th>\n",
       "    </tr>\n",
       "  </thead>\n",
       "  <tbody>\n",
       "    <tr>\n",
       "      <th>0-base</th>\n",
       "      <td>-1.159216</td>\n",
       "      <td>0.620350</td>\n",
       "      <td>-0.513723</td>\n",
       "      <td>1.398558</td>\n",
       "      <td>2.269043</td>\n",
       "      <td>-1.160385</td>\n",
       "      <td>0.373663</td>\n",
       "      <td>-0.435627</td>\n",
       "      <td>0.884544</td>\n",
       "      <td>0.457647</td>\n",
       "      <td>...</td>\n",
       "      <td>0.006792</td>\n",
       "      <td>-0.847513</td>\n",
       "      <td>1.189049</td>\n",
       "      <td>0.190524</td>\n",
       "      <td>0.073589</td>\n",
       "      <td>-2.262493</td>\n",
       "      <td>-0.510438</td>\n",
       "      <td>0.293004</td>\n",
       "      <td>-0.014051</td>\n",
       "      <td>-0.312329</td>\n",
       "    </tr>\n",
       "    <tr>\n",
       "      <th>1-base</th>\n",
       "      <td>2.075715</td>\n",
       "      <td>1.060423</td>\n",
       "      <td>-0.652491</td>\n",
       "      <td>-1.002705</td>\n",
       "      <td>-1.157244</td>\n",
       "      <td>-0.500495</td>\n",
       "      <td>-0.871900</td>\n",
       "      <td>-0.623903</td>\n",
       "      <td>1.098487</td>\n",
       "      <td>0.044024</td>\n",
       "      <td>...</td>\n",
       "      <td>1.221724</td>\n",
       "      <td>-1.871023</td>\n",
       "      <td>-1.272135</td>\n",
       "      <td>0.270119</td>\n",
       "      <td>-0.073569</td>\n",
       "      <td>0.225102</td>\n",
       "      <td>0.014491</td>\n",
       "      <td>1.711283</td>\n",
       "      <td>0.059848</td>\n",
       "      <td>-0.281052</td>\n",
       "    </tr>\n",
       "    <tr>\n",
       "      <th>2-base</th>\n",
       "      <td>1.285417</td>\n",
       "      <td>-0.343342</td>\n",
       "      <td>0.397878</td>\n",
       "      <td>0.666228</td>\n",
       "      <td>0.853956</td>\n",
       "      <td>-0.973671</td>\n",
       "      <td>0.654489</td>\n",
       "      <td>0.828686</td>\n",
       "      <td>0.619635</td>\n",
       "      <td>0.055584</td>\n",
       "      <td>...</td>\n",
       "      <td>-0.586374</td>\n",
       "      <td>-0.417020</td>\n",
       "      <td>0.086191</td>\n",
       "      <td>0.440159</td>\n",
       "      <td>-1.269686</td>\n",
       "      <td>-1.220546</td>\n",
       "      <td>0.773022</td>\n",
       "      <td>0.099669</td>\n",
       "      <td>0.048521</td>\n",
       "      <td>0.365623</td>\n",
       "    </tr>\n",
       "    <tr>\n",
       "      <th>3-base</th>\n",
       "      <td>-0.051852</td>\n",
       "      <td>-0.816047</td>\n",
       "      <td>-1.118829</td>\n",
       "      <td>-1.936660</td>\n",
       "      <td>-0.754014</td>\n",
       "      <td>0.461441</td>\n",
       "      <td>-0.840347</td>\n",
       "      <td>-0.259958</td>\n",
       "      <td>0.182763</td>\n",
       "      <td>0.831647</td>\n",
       "      <td>...</td>\n",
       "      <td>-0.394438</td>\n",
       "      <td>-1.949926</td>\n",
       "      <td>0.274980</td>\n",
       "      <td>-1.372853</td>\n",
       "      <td>0.184217</td>\n",
       "      <td>-0.871349</td>\n",
       "      <td>-0.797073</td>\n",
       "      <td>1.014714</td>\n",
       "      <td>0.090076</td>\n",
       "      <td>-0.601807</td>\n",
       "    </tr>\n",
       "    <tr>\n",
       "      <th>4-base</th>\n",
       "      <td>0.541780</td>\n",
       "      <td>-0.314538</td>\n",
       "      <td>2.284450</td>\n",
       "      <td>0.303705</td>\n",
       "      <td>-2.276181</td>\n",
       "      <td>-1.422075</td>\n",
       "      <td>0.386656</td>\n",
       "      <td>-0.238677</td>\n",
       "      <td>-0.191508</td>\n",
       "      <td>0.786741</td>\n",
       "      <td>...</td>\n",
       "      <td>-0.570116</td>\n",
       "      <td>0.559135</td>\n",
       "      <td>0.716557</td>\n",
       "      <td>0.808178</td>\n",
       "      <td>-0.110496</td>\n",
       "      <td>-0.562342</td>\n",
       "      <td>-0.470720</td>\n",
       "      <td>-0.157210</td>\n",
       "      <td>0.920175</td>\n",
       "      <td>1.152406</td>\n",
       "    </tr>\n",
       "  </tbody>\n",
       "</table>\n",
       "<p>5 rows × 64 columns</p>\n",
       "</div>"
      ],
      "text/plain": [
       "               0         1         2         3         4         5         7  \\\n",
       "Id                                                                             \n",
       "0-base -1.159216  0.620350 -0.513723  1.398558  2.269043 -1.160385  0.373663   \n",
       "1-base  2.075715  1.060423 -0.652491 -1.002705 -1.157244 -0.500495 -0.871900   \n",
       "2-base  1.285417 -0.343342  0.397878  0.666228  0.853956 -0.973671  0.654489   \n",
       "3-base -0.051852 -0.816047 -1.118829 -1.936660 -0.754014  0.461441 -0.840347   \n",
       "4-base  0.541780 -0.314538  2.284450  0.303705 -2.276181 -1.422075  0.386656   \n",
       "\n",
       "               8         9        10  ...        60        61        62  \\\n",
       "Id                                    ...                                 \n",
       "0-base -0.435627  0.884544  0.457647  ...  0.006792 -0.847513  1.189049   \n",
       "1-base -0.623903  1.098487  0.044024  ...  1.221724 -1.871023 -1.272135   \n",
       "2-base  0.828686  0.619635  0.055584  ... -0.586374 -0.417020  0.086191   \n",
       "3-base -0.259958  0.182763  0.831647  ... -0.394438 -1.949926  0.274980   \n",
       "4-base -0.238677 -0.191508  0.786741  ... -0.570116  0.559135  0.716557   \n",
       "\n",
       "              63        64        66        67        68        69        71  \n",
       "Id                                                                            \n",
       "0-base  0.190524  0.073589 -2.262493 -0.510438  0.293004 -0.014051 -0.312329  \n",
       "1-base  0.270119 -0.073569  0.225102  0.014491  1.711283  0.059848 -0.281052  \n",
       "2-base  0.440159 -1.269686 -1.220546  0.773022  0.099669  0.048521  0.365623  \n",
       "3-base -1.372853  0.184217 -0.871349 -0.797073  1.014714  0.090076 -0.601807  \n",
       "4-base  0.808178 -0.110496 -0.562342 -0.470720 -0.157210  0.920175  1.152406  \n",
       "\n",
       "[5 rows x 64 columns]"
      ]
     },
     "execution_count": 7,
     "metadata": {},
     "output_type": "execute_result"
    }
   ],
   "source": [
    "scaler = StandardScaler()\n",
    "scaler.fit(df_base_droped)\n",
    "base_sc = scaler.transform(df_base_droped)\n",
    "train_sc = scaler.transform(df_train_droped)\n",
    "\n",
    "df_base_sc = pd.DataFrame(base_sc, index = df_base.index, columns = df_base_droped.columns)\n",
    "df_train_sc = pd.DataFrame(train_sc, index = df_train.index, columns = df_base_droped.columns)\n",
    "df_base_sc.head()"
   ]
  },
  {
   "cell_type": "markdown",
   "id": "39cdd092",
   "metadata": {},
   "source": [
    "### Удаление признаков с низкой значимостью"
   ]
  },
  {
   "cell_type": "markdown",
   "id": "108a25f8",
   "metadata": {},
   "source": [
    "Возьмем часть имеющихся данных и построим модель, предсказывающую ближайший вектор к искомому. Потом посмотрим, есть ли признаки с совсем низкой значимостью и удалим их из всего датасета."
   ]
  },
  {
   "cell_type": "markdown",
   "id": "0b4015e5",
   "metadata": {},
   "source": [
    "#### Подготовка признаков для классификатора"
   ]
  },
  {
   "cell_type": "markdown",
   "id": "6fe81184",
   "metadata": {},
   "source": [
    "В качестве признаков для обучения модели, возьмем модуль разности соответствующих координат векторов."
   ]
  },
  {
   "cell_type": "code",
   "execution_count": 8,
   "id": "45a5b649",
   "metadata": {},
   "outputs": [],
   "source": [
    "def features_gen(vectors, target): # генерация признаков\n",
    "    return abs(vectors - target)"
   ]
  },
  {
   "cell_type": "markdown",
   "id": "c3f024cc",
   "metadata": {},
   "source": [
    "Вытаскиваем по номерам векторов сами целевые вектора из тренировочной выборки"
   ]
  },
  {
   "cell_type": "code",
   "execution_count": 9,
   "id": "6c3a4487",
   "metadata": {},
   "outputs": [],
   "source": [
    "target_vec = pd.merge(targets.to_frame(), df_base_droped, right_index=True, left_on='Target')\n",
    "target_vec.drop('Target', axis=1, inplace=True)"
   ]
  },
  {
   "cell_type": "markdown",
   "id": "3000ec16",
   "metadata": {},
   "source": [
    "Генерируем признаки для позитивного класса (пометка \"1\") - находим разность между целевым вектором и ближайшим из базы."
   ]
  },
  {
   "cell_type": "code",
   "execution_count": 10,
   "id": "d731eefa",
   "metadata": {},
   "outputs": [
    {
     "data": {
      "text/html": [
       "<div>\n",
       "<style scoped>\n",
       "    .dataframe tbody tr th:only-of-type {\n",
       "        vertical-align: middle;\n",
       "    }\n",
       "\n",
       "    .dataframe tbody tr th {\n",
       "        vertical-align: top;\n",
       "    }\n",
       "\n",
       "    .dataframe thead th {\n",
       "        text-align: right;\n",
       "    }\n",
       "</style>\n",
       "<table border=\"1\" class=\"dataframe\">\n",
       "  <thead>\n",
       "    <tr style=\"text-align: right;\">\n",
       "      <th></th>\n",
       "      <th>0</th>\n",
       "      <th>1</th>\n",
       "      <th>2</th>\n",
       "      <th>3</th>\n",
       "      <th>4</th>\n",
       "      <th>5</th>\n",
       "      <th>7</th>\n",
       "      <th>8</th>\n",
       "      <th>9</th>\n",
       "      <th>10</th>\n",
       "      <th>...</th>\n",
       "      <th>61</th>\n",
       "      <th>62</th>\n",
       "      <th>63</th>\n",
       "      <th>64</th>\n",
       "      <th>66</th>\n",
       "      <th>67</th>\n",
       "      <th>68</th>\n",
       "      <th>69</th>\n",
       "      <th>71</th>\n",
       "      <th>Target</th>\n",
       "    </tr>\n",
       "    <tr>\n",
       "      <th>Id</th>\n",
       "      <th></th>\n",
       "      <th></th>\n",
       "      <th></th>\n",
       "      <th></th>\n",
       "      <th></th>\n",
       "      <th></th>\n",
       "      <th></th>\n",
       "      <th></th>\n",
       "      <th></th>\n",
       "      <th></th>\n",
       "      <th></th>\n",
       "      <th></th>\n",
       "      <th></th>\n",
       "      <th></th>\n",
       "      <th></th>\n",
       "      <th></th>\n",
       "      <th></th>\n",
       "      <th></th>\n",
       "      <th></th>\n",
       "      <th></th>\n",
       "      <th></th>\n",
       "    </tr>\n",
       "  </thead>\n",
       "  <tbody>\n",
       "    <tr>\n",
       "      <th>0-query</th>\n",
       "      <td>9.973804</td>\n",
       "      <td>0.808020</td>\n",
       "      <td>9.847884</td>\n",
       "      <td>14.18458</td>\n",
       "      <td>11.353240</td>\n",
       "      <td>9.915970</td>\n",
       "      <td>25.018923</td>\n",
       "      <td>0.85449</td>\n",
       "      <td>13.415337</td>\n",
       "      <td>17.65196</td>\n",
       "      <td>...</td>\n",
       "      <td>3.94519</td>\n",
       "      <td>1.831274</td>\n",
       "      <td>10.210824</td>\n",
       "      <td>4.013000</td>\n",
       "      <td>0.982326</td>\n",
       "      <td>10.934210</td>\n",
       "      <td>22.545300</td>\n",
       "      <td>17.781590</td>\n",
       "      <td>7.762592</td>\n",
       "      <td>1</td>\n",
       "    </tr>\n",
       "    <tr>\n",
       "      <th>1-query</th>\n",
       "      <td>0.837820</td>\n",
       "      <td>2.231339</td>\n",
       "      <td>9.354242</td>\n",
       "      <td>32.31715</td>\n",
       "      <td>39.925515</td>\n",
       "      <td>8.301000</td>\n",
       "      <td>59.736948</td>\n",
       "      <td>10.81643</td>\n",
       "      <td>23.579480</td>\n",
       "      <td>58.47786</td>\n",
       "      <td>...</td>\n",
       "      <td>5.26848</td>\n",
       "      <td>36.347542</td>\n",
       "      <td>7.755751</td>\n",
       "      <td>11.047470</td>\n",
       "      <td>2.098824</td>\n",
       "      <td>40.188184</td>\n",
       "      <td>41.332726</td>\n",
       "      <td>29.465650</td>\n",
       "      <td>20.388437</td>\n",
       "      <td>1</td>\n",
       "    </tr>\n",
       "    <tr>\n",
       "      <th>10-query</th>\n",
       "      <td>0.000000</td>\n",
       "      <td>0.000000</td>\n",
       "      <td>0.000000</td>\n",
       "      <td>0.00000</td>\n",
       "      <td>0.000000</td>\n",
       "      <td>0.000000</td>\n",
       "      <td>0.000000</td>\n",
       "      <td>0.00000</td>\n",
       "      <td>0.000000</td>\n",
       "      <td>0.00000</td>\n",
       "      <td>...</td>\n",
       "      <td>0.00000</td>\n",
       "      <td>0.000000</td>\n",
       "      <td>0.000000</td>\n",
       "      <td>0.000000</td>\n",
       "      <td>0.000000</td>\n",
       "      <td>0.000000</td>\n",
       "      <td>0.000000</td>\n",
       "      <td>0.000000</td>\n",
       "      <td>0.000000</td>\n",
       "      <td>1</td>\n",
       "    </tr>\n",
       "    <tr>\n",
       "      <th>100-query</th>\n",
       "      <td>0.000000</td>\n",
       "      <td>0.000000</td>\n",
       "      <td>0.000000</td>\n",
       "      <td>0.00000</td>\n",
       "      <td>0.000000</td>\n",
       "      <td>0.000000</td>\n",
       "      <td>0.000000</td>\n",
       "      <td>0.00000</td>\n",
       "      <td>0.000000</td>\n",
       "      <td>0.00000</td>\n",
       "      <td>...</td>\n",
       "      <td>0.00000</td>\n",
       "      <td>0.000000</td>\n",
       "      <td>0.000000</td>\n",
       "      <td>0.000000</td>\n",
       "      <td>0.000000</td>\n",
       "      <td>0.000000</td>\n",
       "      <td>0.000000</td>\n",
       "      <td>0.000000</td>\n",
       "      <td>0.000000</td>\n",
       "      <td>1</td>\n",
       "    </tr>\n",
       "    <tr>\n",
       "      <th>1000-query</th>\n",
       "      <td>0.000140</td>\n",
       "      <td>0.000606</td>\n",
       "      <td>0.007618</td>\n",
       "      <td>0.00450</td>\n",
       "      <td>0.015500</td>\n",
       "      <td>0.001786</td>\n",
       "      <td>0.015224</td>\n",
       "      <td>0.00163</td>\n",
       "      <td>0.021370</td>\n",
       "      <td>0.00608</td>\n",
       "      <td>...</td>\n",
       "      <td>0.00059</td>\n",
       "      <td>0.001690</td>\n",
       "      <td>0.006630</td>\n",
       "      <td>0.002894</td>\n",
       "      <td>0.000090</td>\n",
       "      <td>0.006158</td>\n",
       "      <td>0.009706</td>\n",
       "      <td>0.007445</td>\n",
       "      <td>0.003784</td>\n",
       "      <td>1</td>\n",
       "    </tr>\n",
       "  </tbody>\n",
       "</table>\n",
       "<p>5 rows × 65 columns</p>\n",
       "</div>"
      ],
      "text/plain": [
       "                   0         1         2         3          4         5  \\\n",
       "Id                                                                        \n",
       "0-query     9.973804  0.808020  9.847884  14.18458  11.353240  9.915970   \n",
       "1-query     0.837820  2.231339  9.354242  32.31715  39.925515  8.301000   \n",
       "10-query    0.000000  0.000000  0.000000   0.00000   0.000000  0.000000   \n",
       "100-query   0.000000  0.000000  0.000000   0.00000   0.000000  0.000000   \n",
       "1000-query  0.000140  0.000606  0.007618   0.00450   0.015500  0.001786   \n",
       "\n",
       "                    7         8          9        10  ...       61         62  \\\n",
       "Id                                                    ...                       \n",
       "0-query     25.018923   0.85449  13.415337  17.65196  ...  3.94519   1.831274   \n",
       "1-query     59.736948  10.81643  23.579480  58.47786  ...  5.26848  36.347542   \n",
       "10-query     0.000000   0.00000   0.000000   0.00000  ...  0.00000   0.000000   \n",
       "100-query    0.000000   0.00000   0.000000   0.00000  ...  0.00000   0.000000   \n",
       "1000-query   0.015224   0.00163   0.021370   0.00608  ...  0.00059   0.001690   \n",
       "\n",
       "                   63         64        66         67         68         69  \\\n",
       "Id                                                                            \n",
       "0-query     10.210824   4.013000  0.982326  10.934210  22.545300  17.781590   \n",
       "1-query      7.755751  11.047470  2.098824  40.188184  41.332726  29.465650   \n",
       "10-query     0.000000   0.000000  0.000000   0.000000   0.000000   0.000000   \n",
       "100-query    0.000000   0.000000  0.000000   0.000000   0.000000   0.000000   \n",
       "1000-query   0.006630   0.002894  0.000090   0.006158   0.009706   0.007445   \n",
       "\n",
       "                   71  Target  \n",
       "Id                             \n",
       "0-query      7.762592       1  \n",
       "1-query     20.388437       1  \n",
       "10-query     0.000000       1  \n",
       "100-query    0.000000       1  \n",
       "1000-query   0.003784       1  \n",
       "\n",
       "[5 rows x 65 columns]"
      ]
     },
     "execution_count": 10,
     "metadata": {},
     "output_type": "execute_result"
    }
   ],
   "source": [
    "abs_diff_pos = features_gen(df_train_droped, target_vec)# abs(df_train_droped - target_vec) / target_vec\n",
    "abs_diff_pos['Target'] = 1\n",
    "abs_diff_pos.head()"
   ]
  },
  {
   "cell_type": "markdown",
   "id": "e486d92c",
   "metadata": {},
   "source": [
    "Генерируем признаки для негативного класса: берем $100$ случайных векторов из train и для каждого из них выбираем $100$ случайных векторов из base. Прогоняем через функцию def features_gen (находим разность этих векторов и целевого вектора), и размечаем данные - у всех отметка \"0\" (типа, неподходящие вектора)"
   ]
  },
  {
   "cell_type": "code",
   "execution_count": 11,
   "id": "8f19d23c",
   "metadata": {},
   "outputs": [
    {
     "name": "stdout",
     "output_type": "stream",
     "text": [
      "Wall time: 18.5 s\n"
     ]
    },
    {
     "data": {
      "text/html": [
       "<div>\n",
       "<style scoped>\n",
       "    .dataframe tbody tr th:only-of-type {\n",
       "        vertical-align: middle;\n",
       "    }\n",
       "\n",
       "    .dataframe tbody tr th {\n",
       "        vertical-align: top;\n",
       "    }\n",
       "\n",
       "    .dataframe thead th {\n",
       "        text-align: right;\n",
       "    }\n",
       "</style>\n",
       "<table border=\"1\" class=\"dataframe\">\n",
       "  <thead>\n",
       "    <tr style=\"text-align: right;\">\n",
       "      <th></th>\n",
       "      <th>0</th>\n",
       "      <th>1</th>\n",
       "      <th>2</th>\n",
       "      <th>3</th>\n",
       "      <th>4</th>\n",
       "      <th>5</th>\n",
       "      <th>7</th>\n",
       "      <th>8</th>\n",
       "      <th>9</th>\n",
       "      <th>10</th>\n",
       "      <th>...</th>\n",
       "      <th>61</th>\n",
       "      <th>62</th>\n",
       "      <th>63</th>\n",
       "      <th>64</th>\n",
       "      <th>66</th>\n",
       "      <th>67</th>\n",
       "      <th>68</th>\n",
       "      <th>69</th>\n",
       "      <th>71</th>\n",
       "      <th>Target</th>\n",
       "    </tr>\n",
       "  </thead>\n",
       "  <tbody>\n",
       "    <tr>\n",
       "      <th>0</th>\n",
       "      <td>11.589020</td>\n",
       "      <td>8.500038</td>\n",
       "      <td>21.720985</td>\n",
       "      <td>55.374710</td>\n",
       "      <td>52.802208</td>\n",
       "      <td>6.078911</td>\n",
       "      <td>166.497604</td>\n",
       "      <td>2.575493</td>\n",
       "      <td>206.204437</td>\n",
       "      <td>80.936066</td>\n",
       "      <td>...</td>\n",
       "      <td>6.610352</td>\n",
       "      <td>1.147877</td>\n",
       "      <td>0.284092</td>\n",
       "      <td>21.465752</td>\n",
       "      <td>3.068115</td>\n",
       "      <td>53.170868</td>\n",
       "      <td>59.781330</td>\n",
       "      <td>18.989944</td>\n",
       "      <td>51.154083</td>\n",
       "      <td>0</td>\n",
       "    </tr>\n",
       "    <tr>\n",
       "      <th>1</th>\n",
       "      <td>20.637840</td>\n",
       "      <td>9.439420</td>\n",
       "      <td>0.380203</td>\n",
       "      <td>55.821983</td>\n",
       "      <td>22.177971</td>\n",
       "      <td>23.179398</td>\n",
       "      <td>142.568466</td>\n",
       "      <td>7.860497</td>\n",
       "      <td>207.538239</td>\n",
       "      <td>52.805557</td>\n",
       "      <td>...</td>\n",
       "      <td>21.580261</td>\n",
       "      <td>27.862617</td>\n",
       "      <td>18.636826</td>\n",
       "      <td>78.457054</td>\n",
       "      <td>1.327904</td>\n",
       "      <td>50.097343</td>\n",
       "      <td>12.874474</td>\n",
       "      <td>15.652939</td>\n",
       "      <td>13.371651</td>\n",
       "      <td>0</td>\n",
       "    </tr>\n",
       "    <tr>\n",
       "      <th>2</th>\n",
       "      <td>37.380203</td>\n",
       "      <td>0.373593</td>\n",
       "      <td>36.995850</td>\n",
       "      <td>35.782257</td>\n",
       "      <td>11.854912</td>\n",
       "      <td>45.051384</td>\n",
       "      <td>55.861732</td>\n",
       "      <td>2.649498</td>\n",
       "      <td>185.540970</td>\n",
       "      <td>86.067780</td>\n",
       "      <td>...</td>\n",
       "      <td>3.741608</td>\n",
       "      <td>51.569614</td>\n",
       "      <td>41.918888</td>\n",
       "      <td>17.973763</td>\n",
       "      <td>2.692101</td>\n",
       "      <td>57.893074</td>\n",
       "      <td>44.372894</td>\n",
       "      <td>3.780319</td>\n",
       "      <td>9.312111</td>\n",
       "      <td>0</td>\n",
       "    </tr>\n",
       "    <tr>\n",
       "      <th>3</th>\n",
       "      <td>11.825294</td>\n",
       "      <td>5.626246</td>\n",
       "      <td>49.093468</td>\n",
       "      <td>1.500671</td>\n",
       "      <td>57.169456</td>\n",
       "      <td>19.843056</td>\n",
       "      <td>118.756569</td>\n",
       "      <td>6.936668</td>\n",
       "      <td>140.329056</td>\n",
       "      <td>64.220505</td>\n",
       "      <td>...</td>\n",
       "      <td>3.195511</td>\n",
       "      <td>69.752838</td>\n",
       "      <td>56.506268</td>\n",
       "      <td>1.629112</td>\n",
       "      <td>5.142471</td>\n",
       "      <td>54.034050</td>\n",
       "      <td>119.907722</td>\n",
       "      <td>12.534531</td>\n",
       "      <td>28.437187</td>\n",
       "      <td>0</td>\n",
       "    </tr>\n",
       "    <tr>\n",
       "      <th>4</th>\n",
       "      <td>26.495136</td>\n",
       "      <td>9.296824</td>\n",
       "      <td>7.469719</td>\n",
       "      <td>24.834198</td>\n",
       "      <td>101.547356</td>\n",
       "      <td>6.541519</td>\n",
       "      <td>49.533443</td>\n",
       "      <td>5.157524</td>\n",
       "      <td>86.149872</td>\n",
       "      <td>23.516678</td>\n",
       "      <td>...</td>\n",
       "      <td>0.655106</td>\n",
       "      <td>32.149921</td>\n",
       "      <td>36.882046</td>\n",
       "      <td>44.194588</td>\n",
       "      <td>3.603630</td>\n",
       "      <td>145.154312</td>\n",
       "      <td>69.789406</td>\n",
       "      <td>13.654671</td>\n",
       "      <td>98.213043</td>\n",
       "      <td>0</td>\n",
       "    </tr>\n",
       "  </tbody>\n",
       "</table>\n",
       "<p>5 rows × 65 columns</p>\n",
       "</div>"
      ],
      "text/plain": [
       "           0         1          2          3           4          5  \\\n",
       "0  11.589020  8.500038  21.720985  55.374710   52.802208   6.078911   \n",
       "1  20.637840  9.439420   0.380203  55.821983   22.177971  23.179398   \n",
       "2  37.380203  0.373593  36.995850  35.782257   11.854912  45.051384   \n",
       "3  11.825294  5.626246  49.093468   1.500671   57.169456  19.843056   \n",
       "4  26.495136  9.296824   7.469719  24.834198  101.547356   6.541519   \n",
       "\n",
       "            7         8           9         10  ...         61         62  \\\n",
       "0  166.497604  2.575493  206.204437  80.936066  ...   6.610352   1.147877   \n",
       "1  142.568466  7.860497  207.538239  52.805557  ...  21.580261  27.862617   \n",
       "2   55.861732  2.649498  185.540970  86.067780  ...   3.741608  51.569614   \n",
       "3  118.756569  6.936668  140.329056  64.220505  ...   3.195511  69.752838   \n",
       "4   49.533443  5.157524   86.149872  23.516678  ...   0.655106  32.149921   \n",
       "\n",
       "          63         64        66          67          68         69  \\\n",
       "0   0.284092  21.465752  3.068115   53.170868   59.781330  18.989944   \n",
       "1  18.636826  78.457054  1.327904   50.097343   12.874474  15.652939   \n",
       "2  41.918888  17.973763  2.692101   57.893074   44.372894   3.780319   \n",
       "3  56.506268   1.629112  5.142471   54.034050  119.907722  12.534531   \n",
       "4  36.882046  44.194588  3.603630  145.154312   69.789406  13.654671   \n",
       "\n",
       "          71  Target  \n",
       "0  51.154083       0  \n",
       "1  13.371651       0  \n",
       "2   9.312111       0  \n",
       "3  28.437187       0  \n",
       "4  98.213043       0  \n",
       "\n",
       "[5 rows x 65 columns]"
      ]
     },
     "execution_count": 11,
     "metadata": {},
     "output_type": "execute_result"
    }
   ],
   "source": [
    "%%time\n",
    "dims =  df_train_droped.shape[1]\n",
    "df_base_notarget = df_base_droped.drop(index=targets.to_list()) #тут все base-вектора, которым нет соответствия в трейне\n",
    "bad_rand_examples = np.empty((0,dims), dtype=float)\n",
    "for i in range(100):\n",
    "    rand_vec = np.ascontiguousarray(df_base_notarget.sample(n=100, random_state=i) #это случайные 100 векторов из базы\n",
    "                                   .values).astype('float32')\n",
    "    vec = np.ascontiguousarray(df_train_droped.sample(n=1, random_state=i)\n",
    "                               .values).astype('float32')\n",
    "    abs_diff_neg = features_gen(rand_vec, vec) #abs(rand_vec - vec) / vec\n",
    "    bad_rand_examples = np.concatenate((bad_rand_examples, abs_diff_neg))\n",
    "    \n",
    "df_bad_rand_examples = pd.DataFrame(bad_rand_examples, columns=df_base_droped.columns)\n",
    "df_bad_rand_examples['Target'] = 0 #метка о том, что все эти вектора не подходят\n",
    "df_bad_rand_examples.head()   \n",
    "#df_bad_rand_examples.shape"
   ]
  },
  {
   "cell_type": "markdown",
   "id": "f29e8e80",
   "metadata": {},
   "source": [
    "Соединяем отрицательный и положительный датасеты для обучения классификатора. Перемешиваем их."
   ]
  },
  {
   "cell_type": "code",
   "execution_count": 12,
   "id": "b952e954",
   "metadata": {},
   "outputs": [
    {
     "data": {
      "text/plain": [
       "(10000, 65)"
      ]
     },
     "execution_count": 12,
     "metadata": {},
     "output_type": "execute_result"
    }
   ],
   "source": [
    "df_clsfc_rand = pd.concat([df_bad_rand_examples, abs_diff_pos.sample(n=100)]) #случайно вытащили нужное количество положительных классов и склеили с отрицательными\n",
    "df_clsfc_rand = shuffle(df_clsfc_rand) # все перемешали\n",
    "#df_clsfc_rand.shape\n",
    "df_bad_rand_examples.shape"
   ]
  },
  {
   "cell_type": "markdown",
   "id": "7948730f",
   "metadata": {},
   "source": [
    "Делим выборку на трейн и тест"
   ]
  },
  {
   "cell_type": "code",
   "execution_count": 13,
   "id": "671f2709",
   "metadata": {},
   "outputs": [
    {
     "name": "stdout",
     "output_type": "stream",
     "text": [
      "(8080, 64) (2020, 64) (8080,) (2020,)\n"
     ]
    }
   ],
   "source": [
    "features_clsfc = df_clsfc_rand.drop('Target', axis = 'columns')\n",
    "target_clsfc = df_clsfc_rand['Target']\n",
    "\n",
    "X_train, X_test, y_train, y_test = train_test_split(features_clsfc, target_clsfc, test_size=0.2, stratify=target_clsfc, random_state=1)\n",
    "print(X_train.shape, X_test.shape, y_train.shape, y_test.shape) # проверка\n"
   ]
  },
  {
   "cell_type": "markdown",
   "id": "5f130855",
   "metadata": {},
   "source": [
    "#### Обучение классификатора"
   ]
  },
  {
   "cell_type": "code",
   "execution_count": 14,
   "id": "e145a0dc",
   "metadata": {},
   "outputs": [
    {
     "name": "stdout",
     "output_type": "stream",
     "text": [
      "best params: {'num_leaves': 2, 'n_estimators': 270, 'max_depth': 15}\n",
      "LGBM best score: 0.998019801980198\n"
     ]
    }
   ],
   "source": [
    "lgbm_model = LGBMClassifier(random_state=15)\n",
    "param_lgbm = {\n",
    "    'num_leaves': range(2, 30, 5),\n",
    "    'max_depth': range(5, 30, 5),\n",
    "    'n_estimators': range(20, 1000, 50)\n",
    "#    'class_weight': 'balanced'\n",
    "}\n",
    "\n",
    "RS_lgbm = RandomizedSearchCV(lgbm_model,\n",
    "                        param_distributions = param_lgbm,\n",
    "                        n_jobs=-1,\n",
    "                        cv=5\n",
    ")\n",
    "\n",
    "RS_lgbm.fit(X_train, y_train)\n",
    "lgbm_score = RS_lgbm.best_score_\n",
    "\n",
    "print('best params:',RS_lgbm.best_params_)\n",
    "print('LGBM best score:',RS_lgbm.best_score_)"
   ]
  },
  {
   "cell_type": "code",
   "execution_count": 15,
   "id": "64535abb",
   "metadata": {},
   "outputs": [
    {
     "data": {
      "text/plain": [
       "0.996039603960396"
      ]
     },
     "execution_count": 15,
     "metadata": {},
     "output_type": "execute_result"
    }
   ],
   "source": [
    "#на тесте проверим на всякий случай\n",
    "RS_lgbm.score(X_test, y_test)"
   ]
  },
  {
   "cell_type": "markdown",
   "id": "037bcd0a",
   "metadata": {},
   "source": [
    "Посмотрим рейтинг признаков по важности"
   ]
  },
  {
   "cell_type": "code",
   "execution_count": 16,
   "id": "1cb49b71",
   "metadata": {},
   "outputs": [
    {
     "data": {
      "image/png": "[encoded data removed]",
      "text/plain": [
       "<Figure size 640x480 with 1 Axes>"
      ]
     },
     "metadata": {},
     "output_type": "display_data"
    }
   ],
   "source": [
    "lgbm_importances = pd.DataFrame([X_train.columns, RS_lgbm.best_estimator_.feature_importances_]).T.sort_values(by=1)\n",
    "plt.bar(lgbm_importances[0], lgbm_importances[1], color='blue', label='LGBM')\n",
    "plt.title('feature importance')\n",
    "plt.show()"
   ]
  },
  {
   "cell_type": "markdown",
   "id": "51b34705",
   "metadata": {},
   "source": [
    "Исходя из гистограммы, есть признаки, разность которых имеет очень незначительную важность. Вот их то мы и удалим."
   ]
  },
  {
   "cell_type": "markdown",
   "id": "b7d66502",
   "metadata": {},
   "source": [
    "#### Удаление признаков из базы и трейна"
   ]
  },
  {
   "cell_type": "code",
   "execution_count": 17,
   "id": "6efa07bd",
   "metadata": {},
   "outputs": [
    {
     "data": {
      "text/plain": [
       "(2918139, 59)"
      ]
     },
     "execution_count": 17,
     "metadata": {},
     "output_type": "execute_result"
    }
   ],
   "source": [
    "low_importance = lgbm_importances.head(5)[0].to_list() #это признаки ['64', '49', '45', '43', '12']\n",
    "df_base_lowimp = df_base_sc.drop(low_importance, axis=1)\n",
    "df_train_lowimp = df_train_sc.drop(low_importance, axis=1)\n",
    "df_base_lowimp.shape"
   ]
  },
  {
   "cell_type": "markdown",
   "id": "14cf547d",
   "metadata": {},
   "source": [
    "## FAISS"
   ]
  },
  {
   "cell_type": "markdown",
   "id": "5fe07c94",
   "metadata": {},
   "source": [
    "Функция, которая обучает индексы и выдает точность"
   ]
  },
  {
   "cell_type": "code",
   "execution_count": 18,
   "id": "a655d994",
   "metadata": {},
   "outputs": [],
   "source": [
    "def acc_faiss(n_cells, neighb, nprobe, df_base, df_train, targets):\n",
    "    dims = df_base.shape[1]\n",
    "    quantizer = faiss.IndexFlatL2(dims)\n",
    "    idx_l2 = faiss.IndexIVFFlat(quantizer, dims, n_cells)\n",
    "    idx_l2.train(np.ascontiguousarray(df_base.values[:50000, :]).astype('float32'))\n",
    "    idx_l2.add(np.ascontiguousarray(df_base.values).astype('float32'))\n",
    "    idx_l2.nprobe = nprobe\n",
    "    base_index = {k: v for k, v in enumerate(df_base.index.to_list())}\n",
    "    vecs, idx = idx_l2.search(np.ascontiguousarray(df_train.values).astype('float32'), neighb)\n",
    "    acc = 0\n",
    "    for target, el in zip(targets.values.tolist(), idx.tolist()):\n",
    "        acc += int(target in [base_index[r] for r in el])\n",
    "    return 100 * acc / len(idx), vecs, idx"
   ]
  },
  {
   "cell_type": "markdown",
   "id": "d2a2d1db",
   "metadata": {},
   "source": [
    "### Результаты для разной предобработки"
   ]
  },
  {
   "cell_type": "markdown",
   "id": "af7c1e77",
   "metadata": {},
   "source": [
    "Сравним результаты на датасетах с разной корректировкой (исходный, с удаленными фичами, нормированными и удаленными \"малозначимыми\" признаками)"
   ]
  },
  {
   "cell_type": "code",
   "execution_count": 19,
   "id": "7fc92519",
   "metadata": {},
   "outputs": [
    {
     "name": "stdout",
     "output_type": "stream",
     "text": [
      "Raw dataset accuracy 7.95\n",
      "Droped dataset accuracy 62.136\n",
      "Droped and scaled dataset accuracy 64.948\n",
      "Droped and scaled and high-importance dataset accuracy 64.408\n"
     ]
    }
   ],
   "source": [
    "acc_raw = acc_faiss(100, 10, 1, df_base, df_train, targets)[0]\n",
    "acc_droped = acc_faiss(100, 10, 1, df_base_droped, df_train_droped, targets)[0]\n",
    "acc_scaled = acc_faiss(100, 10, 1, df_base_sc, df_train_sc, targets)[0]\n",
    "acc_lowimp =  acc_faiss(100, 10, 1, df_base_lowimp, df_train_lowimp, targets)[0]\n",
    "\n",
    "print ('Raw dataset accuracy', acc_raw)\n",
    "print ('Droped dataset accuracy', acc_droped)\n",
    "print ('Droped and scaled dataset accuracy', acc_scaled)\n",
    "print ('Droped and scaled and high-importance dataset accuracy', acc_lowimp)"
   ]
  },
  {
   "cell_type": "markdown",
   "id": "474e821c",
   "metadata": {},
   "source": [
    "Лучше всего - отнормированный датасет с удаленным \"шумом\"."
   ]
  },
  {
   "cell_type": "markdown",
   "id": "2fd5eb37",
   "metadata": {},
   "source": [
    "### Влияние входных параметров фаисса на результат"
   ]
  },
  {
   "cell_type": "markdown",
   "id": "b9a36715",
   "metadata": {},
   "source": [
    "Зависимость от числа кластеров"
   ]
  },
  {
   "cell_type": "code",
   "execution_count": 20,
   "id": "340df2a6",
   "metadata": {},
   "outputs": [],
   "source": [
    "accs = []\n",
    "for i in range(10, 501, 5):\n",
    "    acc_scaled = acc_faiss(i, 5, 1, df_base_sc, df_train_sc, targets)[0]\n",
    "    accs.append([i, acc_scaled])\n",
    "accs_nclust = pd.DataFrame(accs, columns=['i', 'accuracy'])"
   ]
  },
  {
   "cell_type": "code",
   "execution_count": 22,
   "id": "ddc10f13",
   "metadata": {},
   "outputs": [],
   "source": [
    "accs = []\n",
    "for i in range(1, 18, 2):\n",
    "    acc_scaled = acc_faiss(i, 5, 1, df_base_sc, df_train_sc, targets)[0]\n",
    "    accs.append([i, acc_scaled])\n",
    "accs_nclust0 = pd.DataFrame(accs, columns=['i', 'accuracy'])"
   ]
  },
  {
   "cell_type": "markdown",
   "id": "7cef797d",
   "metadata": {},
   "source": [
    "Зависимость от nprobe"
   ]
  },
  {
   "cell_type": "code",
   "execution_count": 26,
   "id": "8f83b1e1",
   "metadata": {},
   "outputs": [],
   "source": [
    "accs = []\n",
    "for i in (2**p for p in range(0, 7)):\n",
    "    acc_scaled = acc_faiss(200, 100, i, df_base_sc, df_train_sc, targets)[0]\n",
    "    accs.append([i, acc_scaled])\n",
    "accs_nprobe = pd.DataFrame(accs, columns=['i', 'accuracy'])"
   ]
  },
  {
   "cell_type": "markdown",
   "id": "9e7b98f4",
   "metadata": {},
   "source": [
    "Зависимость от числа соседей"
   ]
  },
  {
   "cell_type": "code",
   "execution_count": 27,
   "id": "9c325b09",
   "metadata": {},
   "outputs": [],
   "source": [
    "accs_n = []\n",
    "for n in range(5, 200, 5):\n",
    "    acc_n = acc_faiss(100, n, 1, df_base_sc, df_train_sc, targets)[0]\n",
    "    accs_n.append([n, acc_n])\n",
    "accs_n_table = pd.DataFrame(accs_n, columns=['n', 'accuracy'])"
   ]
  },
  {
   "cell_type": "code",
   "execution_count": 28,
   "id": "eff30c9d",
   "metadata": {},
   "outputs": [],
   "source": [
    "accs_n = []\n",
    "for n in range(250, 500, 50):\n",
    "    acc_n = acc_faiss(100, n, 1, df_base_sc, df_train_sc, targets)[0]\n",
    "    accs_n.append([n, acc_n])\n",
    "accs_n_table1 = pd.DataFrame(accs_n, columns=['n', 'accuracy'])"
   ]
  },
  {
   "cell_type": "markdown",
   "id": "34b2339f",
   "metadata": {},
   "source": [
    "Поглядим на графики"
   ]
  },
  {
   "cell_type": "code",
   "execution_count": 32,
   "id": "ae726517",
   "metadata": {},
   "outputs": [
    {
     "data": {
      "image/png": "[encoded data removed]",
      "text/plain": [
       "<Figure size 1500x900 with 4 Axes>"
      ]
     },
     "metadata": {},
     "output_type": "display_data"
    }
   ],
   "source": [
    "accs_nclusters = pd.concat([accs_nclust0, accs_nclust])\n",
    "accs_neigb  = pd.concat([accs_n_table, accs_n_table1])\n",
    "\n",
    "plt.figure(figsize=(15,9))\n",
    "plt.subplot(2,2,1)\n",
    "plt.plot(accs_nclusters['i'], accs_nclusters['accuracy'])\n",
    "plt.title('FAISS accuracy depending on number of clusters (nprobe=1, neghb=5)')\n",
    "plt.xlabel('number of clusters')\n",
    "plt.ylabel('accuracy')\n",
    "plt.grid()\n",
    "plt.subplot(2,2,2)\n",
    "plt.plot(accs_nprobe['i'], accs_nprobe['accuracy'])\n",
    "plt.title('FAISS accuracy depending on nprobe (nclusters=200, neghb=100)')\n",
    "plt.xlabel('nprobe')\n",
    "plt.ylabel('accuracy')\n",
    "plt.grid()\n",
    "plt.subplot(2,2,3)\n",
    "plt.plot(accs_nclusters['i'], accs_nclusters['accuracy'], 'o')\n",
    "plt.title('FAISS accuracy depending on number of clusters (nprobe=1, neghb=5)')\n",
    "plt.xlabel('number of clusters')\n",
    "plt.ylabel('accuracy')\n",
    "plt.xlim(0, 25)\n",
    "plt.grid()\n",
    "plt.subplot(2,2,4)\n",
    "plt.plot(accs_neigb['n'],  accs_neigb['accuracy'])\n",
    "plt.title('FAISS accuracy vs neighbours (nprobe=1, clusters=100)')\n",
    "plt.xlabel('number of neighbours')\n",
    "plt.ylabel('accuracy')\n",
    "plt.grid()\n",
    "plt.show()\n",
    "plt.show()"
   ]
  },
  {
   "cell_type": "markdown",
   "id": "5d4b1494",
   "metadata": {},
   "source": [
    "Исходя их графиков, выбираем следующие параметры для фаисса:\n",
    "clusters = 50, neghb = 400, nprobe = 40"
   ]
  },
  {
   "cell_type": "code",
   "execution_count": 33,
   "id": "e2176438",
   "metadata": {},
   "outputs": [
    {
     "name": "stdout",
     "output_type": "stream",
     "text": [
      "Wall time: 39min 37s\n"
     ]
    },
    {
     "data": {
      "text/plain": [
       "83.948"
      ]
     },
     "execution_count": 33,
     "metadata": {},
     "output_type": "execute_result"
    }
   ],
   "source": [
    "%%time\n",
    "faiss_slow = acc_faiss(50, 400, 40, df_base_sc, df_train_sc, targets)\n",
    "faiss_slow[0]"
   ]
  },
  {
   "cell_type": "markdown",
   "id": "e500d52f",
   "metadata": {},
   "source": [
    "Ради интереса посмотрим, как сочетаются время выполнения и точность при различных входных параметрах"
   ]
  },
  {
   "cell_type": "code",
   "execution_count": 219,
   "id": "0bb05695",
   "metadata": {},
   "outputs": [
    {
     "name": "stdout",
     "output_type": "stream",
     "text": [
      "Wall time: 6min 25s\n"
     ]
    },
    {
     "data": {
      "text/plain": [
       "82.629"
      ]
     },
     "execution_count": 219,
     "metadata": {},
     "output_type": "execute_result"
    }
   ],
   "source": [
    "%%time\n",
    "faiss15_400_30 = acc_faiss(200, 400, 30, df_base_sc, df_train_sc, targets)\n",
    "faiss15_400_30[0]"
   ]
  },
  {
   "cell_type": "code",
   "execution_count": 237,
   "id": "6e8e7a58",
   "metadata": {},
   "outputs": [
    {
     "name": "stdout",
     "output_type": "stream",
     "text": [
      "Wall time: 7min 30s\n"
     ]
    },
    {
     "data": {
      "text/plain": [
       "82.606"
      ]
     },
     "execution_count": 237,
     "metadata": {},
     "output_type": "execute_result"
    }
   ],
   "source": [
    "%%time\n",
    "faiss300_400_40 = acc_faiss(300, 400, 40, df_base_sc, df_train_sc, targets)\n",
    "faiss300_400_40[0]"
   ]
  },
  {
   "cell_type": "code",
   "execution_count": 241,
   "id": "f83c0aad",
   "metadata": {},
   "outputs": [
    {
     "name": "stdout",
     "output_type": "stream",
     "text": [
      "Wall time: 34min 33s\n"
     ]
    },
    {
     "data": {
      "text/plain": [
       "80.72"
      ]
     },
     "execution_count": 241,
     "metadata": {},
     "output_type": "execute_result"
    }
   ],
   "source": [
    "%%time\n",
    "faiss50_100_40 = acc_faiss(50, 100, 40, df_base_sc, df_train_sc, targets)\n",
    "faiss50_100_40[0]"
   ]
  },
  {
   "cell_type": "code",
   "execution_count": 37,
   "id": "91443ca2",
   "metadata": {},
   "outputs": [],
   "source": [
    "faiss15_5 = acc_faiss(15, 5, 10, df_base_sc, df_train_sc, targets)"
   ]
  },
  {
   "cell_type": "code",
   "execution_count": 38,
   "id": "119442b7",
   "metadata": {},
   "outputs": [
    {
     "data": {
      "text/plain": [
       "71.047"
      ]
     },
     "execution_count": 38,
     "metadata": {},
     "output_type": "execute_result"
    }
   ],
   "source": [
    "faiss15_5[0]"
   ]
  },
  {
   "cell_type": "code",
   "execution_count": 246,
   "id": "3f20d194",
   "metadata": {},
   "outputs": [
    {
     "name": "stdout",
     "output_type": "stream",
     "text": [
      "Wall time: 18.2 s\n"
     ]
    },
    {
     "data": {
      "text/plain": [
       "67.302"
      ]
     },
     "execution_count": 246,
     "metadata": {},
     "output_type": "execute_result"
    }
   ],
   "source": [
    "%%time\n",
    "faiss_test = acc_faiss(500, 100, 1, df_base_sc, df_train_sc, targets)\n",
    "faiss_test[0]"
   ]
  },
  {
   "cell_type": "markdown",
   "id": "d6f43909",
   "metadata": {},
   "source": [
    "Вывод: точности 82.6%  можно достичь на 400 соседях, довольно быстро при количестве кластеров 200 и nprobe = 300. При большом желании можно дотянуть точность до 84%, но это уже по времени дольше почти на порядок (параметры 50, 400 и 40)"
   ]
  },
  {
   "cell_type": "markdown",
   "id": "cda2e3d8",
   "metadata": {},
   "source": [
    "## Обучаем классификатор, чтобы отобрать топ-5 из выбранных фаисом"
   ]
  },
  {
   "cell_type": "markdown",
   "id": "4a1f4930",
   "metadata": {},
   "source": [
    "### подготовка признаков"
   ]
  },
  {
   "cell_type": "markdown",
   "id": "4ebbd788",
   "metadata": {},
   "source": [
    " Из base вытаскиваем вектора, которые подобраны в качестве ответов к тренировочной выборке (по ID)"
   ]
  },
  {
   "cell_type": "code",
   "execution_count": 34,
   "id": "c5ccd944",
   "metadata": {},
   "outputs": [],
   "source": [
    "target_vec = pd.merge(targets.to_frame(), df_base_sc, right_index=True, left_on='Target')\n",
    "target_vec.drop('Target', axis=1, inplace=True)"
   ]
  },
  {
   "cell_type": "markdown",
   "id": "54bca7f4",
   "metadata": {},
   "source": [
    "Функция, которая генерирует признаки на основе датафрейма с набором векторов и целевого вектора. Эти признаки будут скормлены модели."
   ]
  },
  {
   "cell_type": "code",
   "execution_count": 35,
   "id": "83264837",
   "metadata": {},
   "outputs": [],
   "source": [
    "def features_gen(vectors: pd.core.frame.DataFrame, target:pd.core.frame.DataFrame) -> np.ndarray:\n",
    "    features = abs(vectors - target)\n",
    "    return np.ascontiguousarray(features.values).astype('float32') "
   ]
  },
  {
   "cell_type": "markdown",
   "id": "a2af1911",
   "metadata": {},
   "source": [
    "Генерируем признаки для позитивного класса (пометка \"1\") - находим разность между целевым вектором и ближайшим из базы."
   ]
  },
  {
   "cell_type": "code",
   "execution_count": 36,
   "id": "abbcd7e3",
   "metadata": {},
   "outputs": [
    {
     "data": {
      "text/html": [
       "<div>\n",
       "<style scoped>\n",
       "    .dataframe tbody tr th:only-of-type {\n",
       "        vertical-align: middle;\n",
       "    }\n",
       "\n",
       "    .dataframe tbody tr th {\n",
       "        vertical-align: top;\n",
       "    }\n",
       "\n",
       "    .dataframe thead th {\n",
       "        text-align: right;\n",
       "    }\n",
       "</style>\n",
       "<table border=\"1\" class=\"dataframe\">\n",
       "  <thead>\n",
       "    <tr style=\"text-align: right;\">\n",
       "      <th></th>\n",
       "      <th>0</th>\n",
       "      <th>1</th>\n",
       "      <th>2</th>\n",
       "      <th>3</th>\n",
       "      <th>4</th>\n",
       "      <th>5</th>\n",
       "      <th>7</th>\n",
       "      <th>8</th>\n",
       "      <th>9</th>\n",
       "      <th>10</th>\n",
       "      <th>...</th>\n",
       "      <th>61</th>\n",
       "      <th>62</th>\n",
       "      <th>63</th>\n",
       "      <th>64</th>\n",
       "      <th>66</th>\n",
       "      <th>67</th>\n",
       "      <th>68</th>\n",
       "      <th>69</th>\n",
       "      <th>71</th>\n",
       "      <th>Target</th>\n",
       "    </tr>\n",
       "  </thead>\n",
       "  <tbody>\n",
       "    <tr>\n",
       "      <th>0</th>\n",
       "      <td>0.400694</td>\n",
       "      <td>0.163125</td>\n",
       "      <td>0.254918</td>\n",
       "      <td>0.714776</td>\n",
       "      <td>0.244956</td>\n",
       "      <td>0.351804</td>\n",
       "      <td>0.389603</td>\n",
       "      <td>0.134436</td>\n",
       "      <td>0.208214</td>\n",
       "      <td>0.423437</td>\n",
       "      <td>...</td>\n",
       "      <td>0.412286</td>\n",
       "      <td>0.060128</td>\n",
       "      <td>0.353487</td>\n",
       "      <td>0.097334</td>\n",
       "      <td>0.538746</td>\n",
       "      <td>0.197574</td>\n",
       "      <td>0.367517</td>\n",
       "      <td>0.839737</td>\n",
       "      <td>0.185939</td>\n",
       "      <td>1</td>\n",
       "    </tr>\n",
       "    <tr>\n",
       "      <th>1</th>\n",
       "      <td>0.033659</td>\n",
       "      <td>0.450467</td>\n",
       "      <td>0.242139</td>\n",
       "      <td>1.628495</td>\n",
       "      <td>0.861428</td>\n",
       "      <td>0.294507</td>\n",
       "      <td>0.930245</td>\n",
       "      <td>1.701738</td>\n",
       "      <td>0.365967</td>\n",
       "      <td>1.402772</td>\n",
       "      <td>...</td>\n",
       "      <td>0.550574</td>\n",
       "      <td>1.193428</td>\n",
       "      <td>0.268495</td>\n",
       "      <td>0.267952</td>\n",
       "      <td>1.151078</td>\n",
       "      <td>0.726176</td>\n",
       "      <td>0.673775</td>\n",
       "      <td>1.391518</td>\n",
       "      <td>0.488369</td>\n",
       "      <td>1</td>\n",
       "    </tr>\n",
       "    <tr>\n",
       "      <th>2</th>\n",
       "      <td>0.000000</td>\n",
       "      <td>0.000000</td>\n",
       "      <td>0.000000</td>\n",
       "      <td>0.000000</td>\n",
       "      <td>0.000000</td>\n",
       "      <td>0.000000</td>\n",
       "      <td>0.000000</td>\n",
       "      <td>0.000000</td>\n",
       "      <td>0.000000</td>\n",
       "      <td>0.000000</td>\n",
       "      <td>...</td>\n",
       "      <td>0.000000</td>\n",
       "      <td>0.000000</td>\n",
       "      <td>0.000000</td>\n",
       "      <td>0.000000</td>\n",
       "      <td>0.000000</td>\n",
       "      <td>0.000000</td>\n",
       "      <td>0.000000</td>\n",
       "      <td>0.000000</td>\n",
       "      <td>0.000000</td>\n",
       "      <td>1</td>\n",
       "    </tr>\n",
       "    <tr>\n",
       "      <th>3</th>\n",
       "      <td>0.000000</td>\n",
       "      <td>0.000000</td>\n",
       "      <td>0.000000</td>\n",
       "      <td>0.000000</td>\n",
       "      <td>0.000000</td>\n",
       "      <td>0.000000</td>\n",
       "      <td>0.000000</td>\n",
       "      <td>0.000000</td>\n",
       "      <td>0.000000</td>\n",
       "      <td>0.000000</td>\n",
       "      <td>...</td>\n",
       "      <td>0.000000</td>\n",
       "      <td>0.000000</td>\n",
       "      <td>0.000000</td>\n",
       "      <td>0.000000</td>\n",
       "      <td>0.000000</td>\n",
       "      <td>0.000000</td>\n",
       "      <td>0.000000</td>\n",
       "      <td>0.000000</td>\n",
       "      <td>0.000000</td>\n",
       "      <td>1</td>\n",
       "    </tr>\n",
       "    <tr>\n",
       "      <th>4</th>\n",
       "      <td>0.000006</td>\n",
       "      <td>0.000122</td>\n",
       "      <td>0.000197</td>\n",
       "      <td>0.000227</td>\n",
       "      <td>0.000334</td>\n",
       "      <td>0.000063</td>\n",
       "      <td>0.000237</td>\n",
       "      <td>0.000256</td>\n",
       "      <td>0.000332</td>\n",
       "      <td>0.000146</td>\n",
       "      <td>...</td>\n",
       "      <td>0.000062</td>\n",
       "      <td>0.000055</td>\n",
       "      <td>0.000230</td>\n",
       "      <td>0.000070</td>\n",
       "      <td>0.000049</td>\n",
       "      <td>0.000111</td>\n",
       "      <td>0.000158</td>\n",
       "      <td>0.000352</td>\n",
       "      <td>0.000091</td>\n",
       "      <td>1</td>\n",
       "    </tr>\n",
       "  </tbody>\n",
       "</table>\n",
       "<p>5 rows × 65 columns</p>\n",
       "</div>"
      ],
      "text/plain": [
       "          0         1         2         3         4         5         7  \\\n",
       "0  0.400694  0.163125  0.254918  0.714776  0.244956  0.351804  0.389603   \n",
       "1  0.033659  0.450467  0.242139  1.628495  0.861428  0.294507  0.930245   \n",
       "2  0.000000  0.000000  0.000000  0.000000  0.000000  0.000000  0.000000   \n",
       "3  0.000000  0.000000  0.000000  0.000000  0.000000  0.000000  0.000000   \n",
       "4  0.000006  0.000122  0.000197  0.000227  0.000334  0.000063  0.000237   \n",
       "\n",
       "          8         9        10  ...        61        62        63        64  \\\n",
       "0  0.134436  0.208214  0.423437  ...  0.412286  0.060128  0.353487  0.097334   \n",
       "1  1.701738  0.365967  1.402772  ...  0.550574  1.193428  0.268495  0.267952   \n",
       "2  0.000000  0.000000  0.000000  ...  0.000000  0.000000  0.000000  0.000000   \n",
       "3  0.000000  0.000000  0.000000  ...  0.000000  0.000000  0.000000  0.000000   \n",
       "4  0.000256  0.000332  0.000146  ...  0.000062  0.000055  0.000230  0.000070   \n",
       "\n",
       "         66        67        68        69        71  Target  \n",
       "0  0.538746  0.197574  0.367517  0.839737  0.185939       1  \n",
       "1  1.151078  0.726176  0.673775  1.391518  0.488369       1  \n",
       "2  0.000000  0.000000  0.000000  0.000000  0.000000       1  \n",
       "3  0.000000  0.000000  0.000000  0.000000  0.000000       1  \n",
       "4  0.000049  0.000111  0.000158  0.000352  0.000091       1  \n",
       "\n",
       "[5 rows x 65 columns]"
      ]
     },
     "execution_count": 36,
     "metadata": {},
     "output_type": "execute_result"
    }
   ],
   "source": [
    "features_pos = features_gen(df_train_sc, target_vec)\n",
    "df_features_pos = pd.DataFrame(features_pos, columns=df_base_sc.columns)\n",
    "df_features_pos['Target'] = 1\n",
    "df_features_pos.head()"
   ]
  },
  {
   "cell_type": "markdown",
   "id": "7c8a2623",
   "metadata": {},
   "source": [
    "Возьмем для каждого вектора найденные 400 штук векторов и нагенерируем фичи (разность этих векторов и целевого вектора), сделаем датасет из всего этого с отметкой \"0\" (типа, неподходящие вектора)"
   ]
  },
  {
   "cell_type": "code",
   "execution_count": 74,
   "id": "2d1cb388",
   "metadata": {},
   "outputs": [
    {
     "name": "stdout",
     "output_type": "stream",
     "text": [
      "Wall time: 38 s\n"
     ]
    },
    {
     "data": {
      "text/html": [
       "<div>\n",
       "<style scoped>\n",
       "    .dataframe tbody tr th:only-of-type {\n",
       "        vertical-align: middle;\n",
       "    }\n",
       "\n",
       "    .dataframe tbody tr th {\n",
       "        vertical-align: top;\n",
       "    }\n",
       "\n",
       "    .dataframe thead th {\n",
       "        text-align: right;\n",
       "    }\n",
       "</style>\n",
       "<table border=\"1\" class=\"dataframe\">\n",
       "  <thead>\n",
       "    <tr style=\"text-align: right;\">\n",
       "      <th></th>\n",
       "      <th>0</th>\n",
       "      <th>1</th>\n",
       "      <th>2</th>\n",
       "      <th>3</th>\n",
       "      <th>4</th>\n",
       "      <th>5</th>\n",
       "      <th>7</th>\n",
       "      <th>8</th>\n",
       "      <th>9</th>\n",
       "      <th>10</th>\n",
       "      <th>...</th>\n",
       "      <th>61</th>\n",
       "      <th>62</th>\n",
       "      <th>63</th>\n",
       "      <th>64</th>\n",
       "      <th>66</th>\n",
       "      <th>67</th>\n",
       "      <th>68</th>\n",
       "      <th>69</th>\n",
       "      <th>71</th>\n",
       "      <th>Target</th>\n",
       "    </tr>\n",
       "  </thead>\n",
       "  <tbody>\n",
       "    <tr>\n",
       "      <th>0</th>\n",
       "      <td>0.787933</td>\n",
       "      <td>1.461295</td>\n",
       "      <td>0.098869</td>\n",
       "      <td>2.085646</td>\n",
       "      <td>2.208910</td>\n",
       "      <td>0.849546</td>\n",
       "      <td>0.254694</td>\n",
       "      <td>0.322300</td>\n",
       "      <td>1.659610</td>\n",
       "      <td>0.882265</td>\n",
       "      <td>...</td>\n",
       "      <td>2.790992</td>\n",
       "      <td>0.423032</td>\n",
       "      <td>1.656131</td>\n",
       "      <td>0.572374</td>\n",
       "      <td>0.405688</td>\n",
       "      <td>1.592947</td>\n",
       "      <td>0.005658</td>\n",
       "      <td>0.624829</td>\n",
       "      <td>0.451088</td>\n",
       "      <td>0</td>\n",
       "    </tr>\n",
       "    <tr>\n",
       "      <th>1</th>\n",
       "      <td>0.448561</td>\n",
       "      <td>1.596393</td>\n",
       "      <td>0.635439</td>\n",
       "      <td>1.439270</td>\n",
       "      <td>2.174104</td>\n",
       "      <td>0.914777</td>\n",
       "      <td>0.611341</td>\n",
       "      <td>0.213772</td>\n",
       "      <td>2.295515</td>\n",
       "      <td>0.776341</td>\n",
       "      <td>...</td>\n",
       "      <td>3.080842</td>\n",
       "      <td>0.721125</td>\n",
       "      <td>1.347370</td>\n",
       "      <td>0.348438</td>\n",
       "      <td>0.614995</td>\n",
       "      <td>1.098050</td>\n",
       "      <td>0.519478</td>\n",
       "      <td>0.425727</td>\n",
       "      <td>0.888199</td>\n",
       "      <td>0</td>\n",
       "    </tr>\n",
       "    <tr>\n",
       "      <th>2</th>\n",
       "      <td>0.616883</td>\n",
       "      <td>2.200089</td>\n",
       "      <td>0.386202</td>\n",
       "      <td>2.526721</td>\n",
       "      <td>2.318380</td>\n",
       "      <td>0.672241</td>\n",
       "      <td>0.242951</td>\n",
       "      <td>0.586440</td>\n",
       "      <td>1.469051</td>\n",
       "      <td>0.617162</td>\n",
       "      <td>...</td>\n",
       "      <td>3.172706</td>\n",
       "      <td>0.266704</td>\n",
       "      <td>1.415318</td>\n",
       "      <td>0.153824</td>\n",
       "      <td>0.240274</td>\n",
       "      <td>1.469739</td>\n",
       "      <td>0.576986</td>\n",
       "      <td>0.583550</td>\n",
       "      <td>1.082567</td>\n",
       "      <td>0</td>\n",
       "    </tr>\n",
       "    <tr>\n",
       "      <th>3</th>\n",
       "      <td>0.333777</td>\n",
       "      <td>1.225361</td>\n",
       "      <td>0.162492</td>\n",
       "      <td>1.769236</td>\n",
       "      <td>2.291680</td>\n",
       "      <td>0.845954</td>\n",
       "      <td>0.557453</td>\n",
       "      <td>0.603216</td>\n",
       "      <td>1.878559</td>\n",
       "      <td>0.677022</td>\n",
       "      <td>...</td>\n",
       "      <td>3.051192</td>\n",
       "      <td>0.290769</td>\n",
       "      <td>1.348899</td>\n",
       "      <td>0.687110</td>\n",
       "      <td>0.597554</td>\n",
       "      <td>1.516655</td>\n",
       "      <td>0.578148</td>\n",
       "      <td>0.589798</td>\n",
       "      <td>1.002634</td>\n",
       "      <td>0</td>\n",
       "    </tr>\n",
       "    <tr>\n",
       "      <th>4</th>\n",
       "      <td>0.973281</td>\n",
       "      <td>1.605811</td>\n",
       "      <td>0.077869</td>\n",
       "      <td>2.114235</td>\n",
       "      <td>2.744761</td>\n",
       "      <td>0.945048</td>\n",
       "      <td>0.684392</td>\n",
       "      <td>0.614230</td>\n",
       "      <td>2.125759</td>\n",
       "      <td>0.247821</td>\n",
       "      <td>...</td>\n",
       "      <td>3.044866</td>\n",
       "      <td>0.212225</td>\n",
       "      <td>1.065413</td>\n",
       "      <td>0.037585</td>\n",
       "      <td>0.428468</td>\n",
       "      <td>1.156815</td>\n",
       "      <td>0.758239</td>\n",
       "      <td>0.324959</td>\n",
       "      <td>0.453728</td>\n",
       "      <td>0</td>\n",
       "    </tr>\n",
       "  </tbody>\n",
       "</table>\n",
       "<p>5 rows × 65 columns</p>\n",
       "</div>"
      ],
      "text/plain": [
       "          0         1         2         3         4         5         7  \\\n",
       "0  0.787933  1.461295  0.098869  2.085646  2.208910  0.849546  0.254694   \n",
       "1  0.448561  1.596393  0.635439  1.439270  2.174104  0.914777  0.611341   \n",
       "2  0.616883  2.200089  0.386202  2.526721  2.318380  0.672241  0.242951   \n",
       "3  0.333777  1.225361  0.162492  1.769236  2.291680  0.845954  0.557453   \n",
       "4  0.973281  1.605811  0.077869  2.114235  2.744761  0.945048  0.684392   \n",
       "\n",
       "          8         9        10  ...        61        62        63        64  \\\n",
       "0  0.322300  1.659610  0.882265  ...  2.790992  0.423032  1.656131  0.572374   \n",
       "1  0.213772  2.295515  0.776341  ...  3.080842  0.721125  1.347370  0.348438   \n",
       "2  0.586440  1.469051  0.617162  ...  3.172706  0.266704  1.415318  0.153824   \n",
       "3  0.603216  1.878559  0.677022  ...  3.051192  0.290769  1.348899  0.687110   \n",
       "4  0.614230  2.125759  0.247821  ...  3.044866  0.212225  1.065413  0.037585   \n",
       "\n",
       "         66        67        68        69        71  Target  \n",
       "0  0.405688  1.592947  0.005658  0.624829  0.451088       0  \n",
       "1  0.614995  1.098050  0.519478  0.425727  0.888199       0  \n",
       "2  0.240274  1.469739  0.576986  0.583550  1.082567       0  \n",
       "3  0.597554  1.516655  0.578148  0.589798  1.002634       0  \n",
       "4  0.428468  1.156815  0.758239  0.324959  0.453728       0  \n",
       "\n",
       "[5 rows x 65 columns]"
      ]
     },
     "execution_count": 74,
     "metadata": {},
     "output_type": "execute_result"
    }
   ],
   "source": [
    "%%time\n",
    "\n",
    "base_IDs =  np.ascontiguousarray(df_base_sc.index) \n",
    "\n",
    "def features_gen(vectors: np.ndarray, target: np.ndarray) -> np.ndarray:\n",
    "    features = abs(vectors - target)\n",
    "    return features\n",
    "\n",
    "#для того, чтобы не использовать целиком всю выборку (слишком тяжелая)\n",
    "#сгенерируем случайных индексов. Их в 100 раз меньше, чем элементов на входе в тестовой выборке.\n",
    "idx_rand = np.random.randint(train_sc.shape[0], size=int(df_train_sc.shape[0]*0.01)) \n",
    "\n",
    "dims =  df_train_droped.shape[1]\n",
    "features_neg = np.array([], dtype=np.float32).reshape(0,dims)\n",
    "base_sc = np.ascontiguousarray(df_base_sc.values).astype('float32')\n",
    "train_sc = np.ascontiguousarray(df_train_sc.values).astype('float32')[idx_rand]\n",
    "targets_cut = targets[idx_rand]\n",
    "\n",
    "for neighb100_idx, target, vec in zip(faiss_slow[2], targets, train_sc):\n",
    "    target_idx = int(target[:-5])    #номер целевого вектора\n",
    "    \n",
    "    try:\n",
    "        indices = np.where(neighb100_idx==target_idx)\n",
    "        neighb100_idx = np.delete(neighb100_idx, indices)    #если вдруг faiss нашел целевой вектор - убрать его из соседей\n",
    "    except:\n",
    "        pass\n",
    "    \n",
    "    neighb10 = base_sc[neighb100_idx] #[:10]] #нашли по индексам сами векторы - соседи.10 штук.\n",
    "    each_vec_features_neg = features_gen(neighb100, vec) #сгенерировали из них \"негативные\" фичи - разность с целевым вектором  \n",
    "    \n",
    "    features_neg = np.concatenate((features_neg, each_vec_features_neg)) #прилепили к фичам из предыдущих итераций\n",
    "    \n",
    "    \n",
    "df_features_neg = pd.DataFrame(features_neg, columns=df_base_sc.columns)  #сшиваем все в один датафрейм\n",
    "df_features_neg['Target'] = 0 #метка о том, что все эти вектора не подходят\n",
    "df_features_neg.head()"
   ]
  },
  {
   "cell_type": "markdown",
   "id": "00eb8021",
   "metadata": {},
   "source": [
    "Соединяем отрицательный и положительный датасеты для обучения классификатора"
   ]
  },
  {
   "cell_type": "code",
   "execution_count": 76,
   "id": "d419b183",
   "metadata": {},
   "outputs": [
    {
     "data": {
      "text/plain": [
       "(500000, 65)"
      ]
     },
     "execution_count": 76,
     "metadata": {},
     "output_type": "execute_result"
    }
   ],
   "source": [
    "df_clsfc = pd.concat([df_features_neg, df_features_pos])\n",
    "df_clsfc = shuffle(df_clsfc) # все перемешали\n",
    "df_clsfc.shape"
   ]
  },
  {
   "cell_type": "code",
   "execution_count": 77,
   "id": "fe063c99",
   "metadata": {},
   "outputs": [],
   "source": [
    "# почистим память от переменных\n",
    "del df_features_neg\n",
    "del df_features_pos"
   ]
  },
  {
   "cell_type": "markdown",
   "id": "5784edee",
   "metadata": {},
   "source": [
    "### Делим признаки на тренировочные и тестовые"
   ]
  },
  {
   "cell_type": "code",
   "execution_count": 78,
   "id": "3e65950c",
   "metadata": {},
   "outputs": [
    {
     "name": "stdout",
     "output_type": "stream",
     "text": [
      "(400000, 64) (100000, 64) (400000,) (100000,)\n"
     ]
    }
   ],
   "source": [
    "#df_clsfc.sample(n=)\n",
    "features_clsfc = df_clsfc.drop('Target', axis = 'columns')\n",
    "target_clsfc = df_clsfc['Target']\n",
    "\n",
    "X_train, X_test, y_train, y_test = train_test_split(features_clsfc, target_clsfc, test_size=0.2, stratify=target_clsfc, random_state=1)\n",
    "print(X_train.shape, X_test.shape, y_train.shape, y_test.shape) # проверка\n",
    "\n",
    "del df_clsfc"
   ]
  },
  {
   "cell_type": "markdown",
   "id": "39dc2547",
   "metadata": {},
   "source": [
    "### Обучение модели"
   ]
  },
  {
   "cell_type": "markdown",
   "id": "9025d757",
   "metadata": {},
   "source": [
    "#### LGBM "
   ]
  },
  {
   "cell_type": "code",
   "execution_count": 83,
   "id": "a41687b6",
   "metadata": {},
   "outputs": [
    {
     "name": "stdout",
     "output_type": "stream",
     "text": [
      "best params: {'num_leaves': 17, 'n_estimators': 20, 'max_depth': 20}\n",
      "LGBM best score: 0.9591875\n",
      "Wall time: 9min 58s\n"
     ]
    }
   ],
   "source": [
    "%%time\n",
    "lgbm_model = LGBMClassifier(class_weight={0: 400., 1: 1.}, random_state=15)\n",
    "param_lgbm = {\n",
    "    'num_leaves': range(2, 20, 5),\n",
    "    'max_depth': range(10, 30, 5),\n",
    "    'n_estimators': range(20, 500, 50)\n",
    "}\n",
    "\n",
    "RS_lgbm = RandomizedSearchCV(lgbm_model,\n",
    "                        param_distributions = param_lgbm,\n",
    "                        n_jobs=-1,\n",
    "                        cv=5\n",
    ")\n",
    "\n",
    "RS_lgbm.fit(X_train, y_train)\n",
    "lgbm_score = RS_lgbm.best_score_\n",
    "\n",
    "print('best params:',RS_lgbm.best_params_)\n",
    "print('LGBM best score:',RS_lgbm.best_score_)"
   ]
  },
  {
   "cell_type": "code",
   "execution_count": 84,
   "id": "fac3ffb5",
   "metadata": {},
   "outputs": [
    {
     "data": {
      "text/plain": [
       "0.95462"
      ]
     },
     "execution_count": 84,
     "metadata": {},
     "output_type": "execute_result"
    }
   ],
   "source": [
    "#на тесте проверим на всякий случай\n",
    "RS_lgbm.score(X_test, y_test)"
   ]
  },
  {
   "cell_type": "markdown",
   "id": "606fbd59",
   "metadata": {},
   "source": [
    "#### Catboost"
   ]
  },
  {
   "cell_type": "code",
   "execution_count": null,
   "id": "1bef9728",
   "metadata": {},
   "outputs": [],
   "source": [
    "%%time\n",
    "CB_model = CatBoostClassifier(verbose=False, random_state=15)\n",
    "\n",
    "param_CB = {\n",
    "    'iterations': range(58, 64, 2),\n",
    "    'learning_rate': np.arange(0.05, 0.06, 0.005),\n",
    "    'depth': range(14, 16, 1)\n",
    "}\n",
    "\n",
    "RS_CB = RandomizedSearchCV(CB_model,\n",
    "                        param_distributions = param_CB,\n",
    "                        n_jobs=-1,\n",
    "                        cv=5\n",
    ")\n",
    "\n",
    "RS_CB.fit(X_train, y_train)\n",
    "#CB_score = CB_model.best_score_\n",
    "\n",
    "print('best params:',RS_CB.best_params_)\n",
    "print('CatBoost best score:', RS_CB.best_score_)"
   ]
  },
  {
   "cell_type": "code",
   "execution_count": 123,
   "id": "0cdda1c0",
   "metadata": {},
   "outputs": [
    {
     "data": {
      "text/plain": [
       "0.98181"
      ]
     },
     "execution_count": 123,
     "metadata": {},
     "output_type": "execute_result"
    }
   ],
   "source": [
    "#на тесте проверим на всякий случай\n",
    "RS_CB.score(X_test, y_test)"
   ]
  },
  {
   "cell_type": "markdown",
   "id": "0a519576",
   "metadata": {},
   "source": [
    "### Соединяем две модели"
   ]
  },
  {
   "cell_type": "code",
   "execution_count": 127,
   "id": "705be03e",
   "metadata": {},
   "outputs": [
    {
     "name": "stderr",
     "output_type": "stream",
     "text": [
      "C:\\ProgramData\\Anaconda3\\lib\\site-packages\\sklearn\\linear_model\\_logistic.py:814: ConvergenceWarning: lbfgs failed to converge (status=1):\n",
      "STOP: TOTAL NO. of ITERATIONS REACHED LIMIT.\n",
      "\n",
      "Increase the number of iterations (max_iter) or scale the data as shown in:\n",
      "    https://scikit-learn.org/stable/modules/preprocessing.html\n",
      "Please also refer to the documentation for alternative solver options:\n",
      "    https://scikit-learn.org/stable/modules/linear_model.html#logistic-regression\n",
      "  n_iter_i = _check_optimize_result(\n"
     ]
    },
    {
     "name": "stdout",
     "output_type": "stream",
     "text": [
      "точность стека 0.98303\n"
     ]
    }
   ],
   "source": [
    "%%time\n",
    "lr = LogisticRegression() # defining meta-classifier\n",
    "clf_stack = StackingClassifier(classifiers =[RS_CB, RS_lgbm], meta_classifier = lr, use_probas = True, use_features_in_secondary = True)\n",
    "model_stack = clf_stack.fit(X_train, y_train) # training of stacked model\n",
    "pred_stack = model_stack.predict(X_test)\t # predictions on test data using stacked model\n",
    "acc_stack = accuracy_score(y_test, pred_stack)\n",
    "print ('точность стека', acc_stack)"
   ]
  },
  {
   "cell_type": "markdown",
   "id": "99ee30a5",
   "metadata": {},
   "source": [
    "## Проверка работы на тестовых данных."
   ]
  },
  {
   "cell_type": "markdown",
   "id": "eef5aa20",
   "metadata": {},
   "source": [
    "### Загрузка и предобработка данных"
   ]
  },
  {
   "cell_type": "code",
   "execution_count": 85,
   "id": "d2cbe3b1",
   "metadata": {},
   "outputs": [
    {
     "data": {
      "text/html": [
       "<div>\n",
       "<style scoped>\n",
       "    .dataframe tbody tr th:only-of-type {\n",
       "        vertical-align: middle;\n",
       "    }\n",
       "\n",
       "    .dataframe tbody tr th {\n",
       "        vertical-align: top;\n",
       "    }\n",
       "\n",
       "    .dataframe thead th {\n",
       "        text-align: right;\n",
       "    }\n",
       "</style>\n",
       "<table border=\"1\" class=\"dataframe\">\n",
       "  <thead>\n",
       "    <tr style=\"text-align: right;\">\n",
       "      <th></th>\n",
       "      <th>Id</th>\n",
       "      <th>0</th>\n",
       "      <th>1</th>\n",
       "      <th>2</th>\n",
       "      <th>3</th>\n",
       "      <th>4</th>\n",
       "      <th>5</th>\n",
       "      <th>6</th>\n",
       "      <th>7</th>\n",
       "      <th>8</th>\n",
       "      <th>...</th>\n",
       "      <th>62</th>\n",
       "      <th>63</th>\n",
       "      <th>64</th>\n",
       "      <th>65</th>\n",
       "      <th>66</th>\n",
       "      <th>67</th>\n",
       "      <th>68</th>\n",
       "      <th>69</th>\n",
       "      <th>70</th>\n",
       "      <th>71</th>\n",
       "    </tr>\n",
       "  </thead>\n",
       "  <tbody>\n",
       "    <tr>\n",
       "      <th>0</th>\n",
       "      <td>100000-query</td>\n",
       "      <td>-57.372734</td>\n",
       "      <td>3.597752</td>\n",
       "      <td>-13.213642</td>\n",
       "      <td>-125.92679</td>\n",
       "      <td>110.74594</td>\n",
       "      <td>-81.279594</td>\n",
       "      <td>-461.003172</td>\n",
       "      <td>139.815720</td>\n",
       "      <td>112.880980</td>\n",
       "      <td>...</td>\n",
       "      <td>-75.51302</td>\n",
       "      <td>52.830902</td>\n",
       "      <td>-143.43945</td>\n",
       "      <td>59.051935</td>\n",
       "      <td>69.28224</td>\n",
       "      <td>61.927513</td>\n",
       "      <td>111.59253</td>\n",
       "      <td>115.140656</td>\n",
       "      <td>-1099.130485</td>\n",
       "      <td>-117.079360</td>\n",
       "    </tr>\n",
       "    <tr>\n",
       "      <th>1</th>\n",
       "      <td>100001-query</td>\n",
       "      <td>-53.758705</td>\n",
       "      <td>12.790300</td>\n",
       "      <td>-43.268543</td>\n",
       "      <td>-134.41762</td>\n",
       "      <td>114.44991</td>\n",
       "      <td>-90.520130</td>\n",
       "      <td>-759.626065</td>\n",
       "      <td>63.995087</td>\n",
       "      <td>127.117905</td>\n",
       "      <td>...</td>\n",
       "      <td>-79.44183</td>\n",
       "      <td>29.185436</td>\n",
       "      <td>-168.60590</td>\n",
       "      <td>-82.872443</td>\n",
       "      <td>70.76560</td>\n",
       "      <td>-65.975950</td>\n",
       "      <td>97.07716</td>\n",
       "      <td>123.391640</td>\n",
       "      <td>-744.442332</td>\n",
       "      <td>-25.009320</td>\n",
       "    </tr>\n",
       "    <tr>\n",
       "      <th>2</th>\n",
       "      <td>100002-query</td>\n",
       "      <td>-64.175095</td>\n",
       "      <td>-3.980927</td>\n",
       "      <td>-7.679249</td>\n",
       "      <td>-170.16093</td>\n",
       "      <td>96.44616</td>\n",
       "      <td>-62.377740</td>\n",
       "      <td>-759.626065</td>\n",
       "      <td>87.477554</td>\n",
       "      <td>131.270110</td>\n",
       "      <td>...</td>\n",
       "      <td>-134.79541</td>\n",
       "      <td>37.368730</td>\n",
       "      <td>-159.66231</td>\n",
       "      <td>-119.232725</td>\n",
       "      <td>67.71044</td>\n",
       "      <td>86.002060</td>\n",
       "      <td>137.63641</td>\n",
       "      <td>141.081630</td>\n",
       "      <td>-294.052271</td>\n",
       "      <td>-70.969604</td>\n",
       "    </tr>\n",
       "    <tr>\n",
       "      <th>3</th>\n",
       "      <td>100003-query</td>\n",
       "      <td>-99.286860</td>\n",
       "      <td>16.123936</td>\n",
       "      <td>9.837166</td>\n",
       "      <td>-148.06044</td>\n",
       "      <td>83.69708</td>\n",
       "      <td>-133.729720</td>\n",
       "      <td>58.576403</td>\n",
       "      <td>-19.046660</td>\n",
       "      <td>115.042404</td>\n",
       "      <td>...</td>\n",
       "      <td>-77.23611</td>\n",
       "      <td>44.100494</td>\n",
       "      <td>-132.53012</td>\n",
       "      <td>-106.318982</td>\n",
       "      <td>70.88396</td>\n",
       "      <td>23.577892</td>\n",
       "      <td>133.18396</td>\n",
       "      <td>143.252940</td>\n",
       "      <td>-799.363667</td>\n",
       "      <td>-89.392670</td>\n",
       "    </tr>\n",
       "    <tr>\n",
       "      <th>4</th>\n",
       "      <td>100004-query</td>\n",
       "      <td>-79.532920</td>\n",
       "      <td>-0.364173</td>\n",
       "      <td>-16.027431</td>\n",
       "      <td>-170.88495</td>\n",
       "      <td>165.45392</td>\n",
       "      <td>-28.291668</td>\n",
       "      <td>33.931936</td>\n",
       "      <td>34.411217</td>\n",
       "      <td>128.903980</td>\n",
       "      <td>...</td>\n",
       "      <td>-123.77025</td>\n",
       "      <td>45.635944</td>\n",
       "      <td>-134.25893</td>\n",
       "      <td>13.735359</td>\n",
       "      <td>70.61763</td>\n",
       "      <td>15.332115</td>\n",
       "      <td>154.56812</td>\n",
       "      <td>101.700640</td>\n",
       "      <td>-1171.892332</td>\n",
       "      <td>-125.307890</td>\n",
       "    </tr>\n",
       "  </tbody>\n",
       "</table>\n",
       "<p>5 rows × 73 columns</p>\n",
       "</div>"
      ],
      "text/plain": [
       "             Id          0          1          2          3          4  \\\n",
       "0  100000-query -57.372734   3.597752 -13.213642 -125.92679  110.74594   \n",
       "1  100001-query -53.758705  12.790300 -43.268543 -134.41762  114.44991   \n",
       "2  100002-query -64.175095  -3.980927  -7.679249 -170.16093   96.44616   \n",
       "3  100003-query -99.286860  16.123936   9.837166 -148.06044   83.69708   \n",
       "4  100004-query -79.532920  -0.364173 -16.027431 -170.88495  165.45392   \n",
       "\n",
       "            5           6           7           8  ...         62         63  \\\n",
       "0  -81.279594 -461.003172  139.815720  112.880980  ...  -75.51302  52.830902   \n",
       "1  -90.520130 -759.626065   63.995087  127.117905  ...  -79.44183  29.185436   \n",
       "2  -62.377740 -759.626065   87.477554  131.270110  ... -134.79541  37.368730   \n",
       "3 -133.729720   58.576403  -19.046660  115.042404  ...  -77.23611  44.100494   \n",
       "4  -28.291668   33.931936   34.411217  128.903980  ... -123.77025  45.635944   \n",
       "\n",
       "          64          65        66         67         68          69  \\\n",
       "0 -143.43945   59.051935  69.28224  61.927513  111.59253  115.140656   \n",
       "1 -168.60590  -82.872443  70.76560 -65.975950   97.07716  123.391640   \n",
       "2 -159.66231 -119.232725  67.71044  86.002060  137.63641  141.081630   \n",
       "3 -132.53012 -106.318982  70.88396  23.577892  133.18396  143.252940   \n",
       "4 -134.25893   13.735359  70.61763  15.332115  154.56812  101.700640   \n",
       "\n",
       "            70          71  \n",
       "0 -1099.130485 -117.079360  \n",
       "1  -744.442332  -25.009320  \n",
       "2  -294.052271  -70.969604  \n",
       "3  -799.363667  -89.392670  \n",
       "4 -1171.892332 -125.307890  \n",
       "\n",
       "[5 rows x 73 columns]"
      ]
     },
     "execution_count": 85,
     "metadata": {},
     "output_type": "execute_result"
    }
   ],
   "source": [
    "df_val = pd.read_csv('validation.csv')\n",
    "df_val_targetsId = pd.read_csv('validation_answer.csv')\n",
    "df_val.head()"
   ]
  },
  {
   "cell_type": "code",
   "execution_count": 86,
   "id": "97028708",
   "metadata": {},
   "outputs": [
    {
     "data": {
      "text/html": [
       "<div>\n",
       "<style scoped>\n",
       "    .dataframe tbody tr th:only-of-type {\n",
       "        vertical-align: middle;\n",
       "    }\n",
       "\n",
       "    .dataframe tbody tr th {\n",
       "        vertical-align: top;\n",
       "    }\n",
       "\n",
       "    .dataframe thead th {\n",
       "        text-align: right;\n",
       "    }\n",
       "</style>\n",
       "<table border=\"1\" class=\"dataframe\">\n",
       "  <thead>\n",
       "    <tr style=\"text-align: right;\">\n",
       "      <th></th>\n",
       "      <th>Id</th>\n",
       "      <th>Expected</th>\n",
       "    </tr>\n",
       "  </thead>\n",
       "  <tbody>\n",
       "    <tr>\n",
       "      <th>0</th>\n",
       "      <td>100000-query</td>\n",
       "      <td>2676668-base</td>\n",
       "    </tr>\n",
       "    <tr>\n",
       "      <th>1</th>\n",
       "      <td>100001-query</td>\n",
       "      <td>91606-base</td>\n",
       "    </tr>\n",
       "    <tr>\n",
       "      <th>2</th>\n",
       "      <td>100002-query</td>\n",
       "      <td>472256-base</td>\n",
       "    </tr>\n",
       "    <tr>\n",
       "      <th>3</th>\n",
       "      <td>100003-query</td>\n",
       "      <td>3168654-base</td>\n",
       "    </tr>\n",
       "    <tr>\n",
       "      <th>4</th>\n",
       "      <td>100004-query</td>\n",
       "      <td>75484-base</td>\n",
       "    </tr>\n",
       "  </tbody>\n",
       "</table>\n",
       "</div>"
      ],
      "text/plain": [
       "             Id      Expected\n",
       "0  100000-query  2676668-base\n",
       "1  100001-query    91606-base\n",
       "2  100002-query   472256-base\n",
       "3  100003-query  3168654-base\n",
       "4  100004-query    75484-base"
      ]
     },
     "execution_count": 86,
     "metadata": {},
     "output_type": "execute_result"
    }
   ],
   "source": [
    "df_val_targetsId.head()"
   ]
  },
  {
   "cell_type": "markdown",
   "id": "25c8882f",
   "metadata": {},
   "source": [
    "Колонки Id совпадают в df_val и df_val_targets?"
   ]
  },
  {
   "cell_type": "code",
   "execution_count": 87,
   "id": "c322755c",
   "metadata": {},
   "outputs": [
    {
     "data": {
      "text/plain": [
       "0"
      ]
     },
     "execution_count": 87,
     "metadata": {},
     "output_type": "execute_result"
    }
   ],
   "source": [
    "sum(df_val['Id'] != df_val_targetsId['Id'])"
   ]
  },
  {
   "cell_type": "code",
   "execution_count": 88,
   "id": "73003296",
   "metadata": {},
   "outputs": [],
   "source": [
    "df_val_targetsId.drop(['Id'], axis=1, inplace=True)\n",
    "val_targetsId = df_val_targetsId.squeeze()"
   ]
  },
  {
   "cell_type": "markdown",
   "id": "5d407314",
   "metadata": {},
   "source": [
    "да! поэтому можно эту колонку выкинуть в обоих датасетах."
   ]
  },
  {
   "cell_type": "markdown",
   "id": "fcff51a5",
   "metadata": {},
   "source": [
    "дропинг скейлинг и вся фигня "
   ]
  },
  {
   "cell_type": "code",
   "execution_count": 89,
   "id": "94798b2e",
   "metadata": {},
   "outputs": [
    {
     "data": {
      "text/html": [
       "<div>\n",
       "<style scoped>\n",
       "    .dataframe tbody tr th:only-of-type {\n",
       "        vertical-align: middle;\n",
       "    }\n",
       "\n",
       "    .dataframe tbody tr th {\n",
       "        vertical-align: top;\n",
       "    }\n",
       "\n",
       "    .dataframe thead th {\n",
       "        text-align: right;\n",
       "    }\n",
       "</style>\n",
       "<table border=\"1\" class=\"dataframe\">\n",
       "  <thead>\n",
       "    <tr style=\"text-align: right;\">\n",
       "      <th></th>\n",
       "      <th>0</th>\n",
       "      <th>1</th>\n",
       "      <th>2</th>\n",
       "      <th>3</th>\n",
       "      <th>4</th>\n",
       "      <th>5</th>\n",
       "      <th>7</th>\n",
       "      <th>8</th>\n",
       "      <th>9</th>\n",
       "      <th>10</th>\n",
       "      <th>...</th>\n",
       "      <th>60</th>\n",
       "      <th>61</th>\n",
       "      <th>62</th>\n",
       "      <th>63</th>\n",
       "      <th>64</th>\n",
       "      <th>66</th>\n",
       "      <th>67</th>\n",
       "      <th>68</th>\n",
       "      <th>69</th>\n",
       "      <th>71</th>\n",
       "    </tr>\n",
       "  </thead>\n",
       "  <tbody>\n",
       "    <tr>\n",
       "      <th>0</th>\n",
       "      <td>1.159310</td>\n",
       "      <td>-0.904901</td>\n",
       "      <td>0.811955</td>\n",
       "      <td>1.043508</td>\n",
       "      <td>-0.012313</td>\n",
       "      <td>-0.329532</td>\n",
       "      <td>1.860318</td>\n",
       "      <td>-1.699665</td>\n",
       "      <td>-0.764269</td>\n",
       "      <td>0.269789</td>\n",
       "      <td>...</td>\n",
       "      <td>1.767701</td>\n",
       "      <td>-1.413223</td>\n",
       "      <td>0.115241</td>\n",
       "      <td>0.676228</td>\n",
       "      <td>0.275453</td>\n",
       "      <td>0.817488</td>\n",
       "      <td>0.693550</td>\n",
       "      <td>0.597167</td>\n",
       "      <td>-0.020121</td>\n",
       "      <td>-1.659674</td>\n",
       "    </tr>\n",
       "    <tr>\n",
       "      <th>1</th>\n",
       "      <td>1.304502</td>\n",
       "      <td>0.950910</td>\n",
       "      <td>0.033969</td>\n",
       "      <td>0.615646</td>\n",
       "      <td>0.067603</td>\n",
       "      <td>-0.657373</td>\n",
       "      <td>0.679613</td>\n",
       "      <td>0.540216</td>\n",
       "      <td>-1.107069</td>\n",
       "      <td>-0.253738</td>\n",
       "      <td>...</td>\n",
       "      <td>-0.548876</td>\n",
       "      <td>-1.135690</td>\n",
       "      <td>-0.013756</td>\n",
       "      <td>-0.142350</td>\n",
       "      <td>-0.334949</td>\n",
       "      <td>1.631021</td>\n",
       "      <td>-1.617587</td>\n",
       "      <td>0.360549</td>\n",
       "      <td>0.369533</td>\n",
       "      <td>0.545701</td>\n",
       "    </tr>\n",
       "    <tr>\n",
       "      <th>2</th>\n",
       "      <td>0.886027</td>\n",
       "      <td>-2.434901</td>\n",
       "      <td>0.955216</td>\n",
       "      <td>-1.185496</td>\n",
       "      <td>-0.320843</td>\n",
       "      <td>0.341078</td>\n",
       "      <td>1.045290</td>\n",
       "      <td>1.193478</td>\n",
       "      <td>0.690080</td>\n",
       "      <td>-1.851159</td>\n",
       "      <td>...</td>\n",
       "      <td>1.127774</td>\n",
       "      <td>0.402836</td>\n",
       "      <td>-1.831225</td>\n",
       "      <td>0.140946</td>\n",
       "      <td>-0.118026</td>\n",
       "      <td>-0.044550</td>\n",
       "      <td>1.128563</td>\n",
       "      <td>1.021715</td>\n",
       "      <td>1.204944</td>\n",
       "      <td>-0.555197</td>\n",
       "    </tr>\n",
       "    <tr>\n",
       "      <th>3</th>\n",
       "      <td>-0.524576</td>\n",
       "      <td>1.623911</td>\n",
       "      <td>1.408637</td>\n",
       "      <td>-0.071830</td>\n",
       "      <td>-0.595916</td>\n",
       "      <td>-2.190385</td>\n",
       "      <td>-0.613543</td>\n",
       "      <td>-1.359610</td>\n",
       "      <td>-0.764409</td>\n",
       "      <td>0.692479</td>\n",
       "      <td>...</td>\n",
       "      <td>0.783558</td>\n",
       "      <td>0.268198</td>\n",
       "      <td>0.058666</td>\n",
       "      <td>0.373992</td>\n",
       "      <td>0.540055</td>\n",
       "      <td>1.695934</td>\n",
       "      <td>0.000596</td>\n",
       "      <td>0.949135</td>\n",
       "      <td>1.307485</td>\n",
       "      <td>-0.996489</td>\n",
       "    </tr>\n",
       "    <tr>\n",
       "      <th>4</th>\n",
       "      <td>0.269032</td>\n",
       "      <td>-1.704743</td>\n",
       "      <td>0.739119</td>\n",
       "      <td>-1.221980</td>\n",
       "      <td>1.168059</td>\n",
       "      <td>1.550401</td>\n",
       "      <td>0.218922</td>\n",
       "      <td>0.821217</td>\n",
       "      <td>-0.347213</td>\n",
       "      <td>1.605413</td>\n",
       "      <td>...</td>\n",
       "      <td>0.856405</td>\n",
       "      <td>-0.512342</td>\n",
       "      <td>-1.469227</td>\n",
       "      <td>0.427148</td>\n",
       "      <td>0.498123</td>\n",
       "      <td>1.549868</td>\n",
       "      <td>-0.148400</td>\n",
       "      <td>1.297723</td>\n",
       "      <td>-0.654827</td>\n",
       "      <td>-1.856774</td>\n",
       "    </tr>\n",
       "  </tbody>\n",
       "</table>\n",
       "<p>5 rows × 64 columns</p>\n",
       "</div>"
      ],
      "text/plain": [
       "          0         1         2         3         4         5         7  \\\n",
       "0  1.159310 -0.904901  0.811955  1.043508 -0.012313 -0.329532  1.860318   \n",
       "1  1.304502  0.950910  0.033969  0.615646  0.067603 -0.657373  0.679613   \n",
       "2  0.886027 -2.434901  0.955216 -1.185496 -0.320843  0.341078  1.045290   \n",
       "3 -0.524576  1.623911  1.408637 -0.071830 -0.595916 -2.190385 -0.613543   \n",
       "4  0.269032 -1.704743  0.739119 -1.221980  1.168059  1.550401  0.218922   \n",
       "\n",
       "          8         9        10  ...        60        61        62        63  \\\n",
       "0 -1.699665 -0.764269  0.269789  ...  1.767701 -1.413223  0.115241  0.676228   \n",
       "1  0.540216 -1.107069 -0.253738  ... -0.548876 -1.135690 -0.013756 -0.142350   \n",
       "2  1.193478  0.690080 -1.851159  ...  1.127774  0.402836 -1.831225  0.140946   \n",
       "3 -1.359610 -0.764409  0.692479  ...  0.783558  0.268198  0.058666  0.373992   \n",
       "4  0.821217 -0.347213  1.605413  ...  0.856405 -0.512342 -1.469227  0.427148   \n",
       "\n",
       "         64        66        67        68        69        71  \n",
       "0  0.275453  0.817488  0.693550  0.597167 -0.020121 -1.659674  \n",
       "1 -0.334949  1.631021 -1.617587  0.360549  0.369533  0.545701  \n",
       "2 -0.118026 -0.044550  1.128563  1.021715  1.204944 -0.555197  \n",
       "3  0.540055  1.695934  0.000596  0.949135  1.307485 -0.996489  \n",
       "4  0.498123  1.549868 -0.148400  1.297723 -0.654827 -1.856774  \n",
       "\n",
       "[5 rows x 64 columns]"
      ]
     },
     "execution_count": 89,
     "metadata": {},
     "output_type": "execute_result"
    }
   ],
   "source": [
    "#noise = ['6', '21', '25', '33', '44', '59', '65', '70']\n",
    "df_val_droped = df_val.drop(noise + ['Id'], axis=1)  \n",
    "val_sc = scaler.transform(df_val_droped)\n",
    "df_val_sc = pd.DataFrame(val_sc, index = df_val.index, columns = df_val_droped.columns)\n",
    "\n",
    "df_val_sc.head()"
   ]
  },
  {
   "cell_type": "code",
   "execution_count": 90,
   "id": "17059b0f",
   "metadata": {},
   "outputs": [
    {
     "data": {
      "text/html": [
       "<div>\n",
       "<style scoped>\n",
       "    .dataframe tbody tr th:only-of-type {\n",
       "        vertical-align: middle;\n",
       "    }\n",
       "\n",
       "    .dataframe tbody tr th {\n",
       "        vertical-align: top;\n",
       "    }\n",
       "\n",
       "    .dataframe thead th {\n",
       "        text-align: right;\n",
       "    }\n",
       "</style>\n",
       "<table border=\"1\" class=\"dataframe\">\n",
       "  <thead>\n",
       "    <tr style=\"text-align: right;\">\n",
       "      <th></th>\n",
       "      <th>0</th>\n",
       "      <th>1</th>\n",
       "      <th>2</th>\n",
       "      <th>3</th>\n",
       "      <th>4</th>\n",
       "      <th>5</th>\n",
       "      <th>7</th>\n",
       "      <th>8</th>\n",
       "      <th>9</th>\n",
       "      <th>10</th>\n",
       "      <th>...</th>\n",
       "      <th>60</th>\n",
       "      <th>61</th>\n",
       "      <th>62</th>\n",
       "      <th>63</th>\n",
       "      <th>64</th>\n",
       "      <th>66</th>\n",
       "      <th>67</th>\n",
       "      <th>68</th>\n",
       "      <th>69</th>\n",
       "      <th>71</th>\n",
       "    </tr>\n",
       "  </thead>\n",
       "  <tbody>\n",
       "    <tr>\n",
       "      <th>0</th>\n",
       "      <td>1.020356</td>\n",
       "      <td>-2.237839</td>\n",
       "      <td>0.267407</td>\n",
       "      <td>0.431866</td>\n",
       "      <td>-0.533111</td>\n",
       "      <td>-0.797379</td>\n",
       "      <td>1.506451</td>\n",
       "      <td>-1.937298</td>\n",
       "      <td>-1.125738</td>\n",
       "      <td>0.186596</td>\n",
       "      <td>...</td>\n",
       "      <td>1.411411</td>\n",
       "      <td>-0.457295</td>\n",
       "      <td>0.082750</td>\n",
       "      <td>0.704080</td>\n",
       "      <td>-0.531969</td>\n",
       "      <td>0.457251</td>\n",
       "      <td>1.216843</td>\n",
       "      <td>1.091280</td>\n",
       "      <td>-0.785043</td>\n",
       "      <td>-1.626359</td>\n",
       "    </tr>\n",
       "    <tr>\n",
       "      <th>1</th>\n",
       "      <td>-1.060382</td>\n",
       "      <td>-0.219336</td>\n",
       "      <td>0.579864</td>\n",
       "      <td>0.568762</td>\n",
       "      <td>0.309760</td>\n",
       "      <td>-0.442072</td>\n",
       "      <td>-1.028772</td>\n",
       "      <td>0.364977</td>\n",
       "      <td>-0.893599</td>\n",
       "      <td>-0.133381</td>\n",
       "      <td>...</td>\n",
       "      <td>-0.550550</td>\n",
       "      <td>-0.630130</td>\n",
       "      <td>0.396296</td>\n",
       "      <td>-0.962816</td>\n",
       "      <td>-1.223015</td>\n",
       "      <td>0.992127</td>\n",
       "      <td>0.623803</td>\n",
       "      <td>0.310357</td>\n",
       "      <td>1.522291</td>\n",
       "      <td>0.100351</td>\n",
       "    </tr>\n",
       "    <tr>\n",
       "      <th>2</th>\n",
       "      <td>0.886067</td>\n",
       "      <td>-2.434851</td>\n",
       "      <td>0.955174</td>\n",
       "      <td>-1.185629</td>\n",
       "      <td>-0.320852</td>\n",
       "      <td>0.341119</td>\n",
       "      <td>1.045193</td>\n",
       "      <td>1.193327</td>\n",
       "      <td>0.690236</td>\n",
       "      <td>-1.851137</td>\n",
       "      <td>...</td>\n",
       "      <td>1.127726</td>\n",
       "      <td>0.402794</td>\n",
       "      <td>-1.831183</td>\n",
       "      <td>0.140928</td>\n",
       "      <td>-0.118053</td>\n",
       "      <td>-0.044484</td>\n",
       "      <td>1.128726</td>\n",
       "      <td>1.021673</td>\n",
       "      <td>1.204840</td>\n",
       "      <td>-0.555275</td>\n",
       "    </tr>\n",
       "    <tr>\n",
       "      <th>3</th>\n",
       "      <td>-0.653081</td>\n",
       "      <td>1.690923</td>\n",
       "      <td>1.508751</td>\n",
       "      <td>-0.090221</td>\n",
       "      <td>-0.721139</td>\n",
       "      <td>-2.140760</td>\n",
       "      <td>-0.609458</td>\n",
       "      <td>-1.343169</td>\n",
       "      <td>-0.849582</td>\n",
       "      <td>0.736096</td>\n",
       "      <td>...</td>\n",
       "      <td>0.855331</td>\n",
       "      <td>0.222372</td>\n",
       "      <td>0.043575</td>\n",
       "      <td>0.328845</td>\n",
       "      <td>0.561700</td>\n",
       "      <td>1.681620</td>\n",
       "      <td>0.073480</td>\n",
       "      <td>0.865355</td>\n",
       "      <td>1.337721</td>\n",
       "      <td>-0.973723</td>\n",
       "    </tr>\n",
       "    <tr>\n",
       "      <th>4</th>\n",
       "      <td>0.380710</td>\n",
       "      <td>-1.611984</td>\n",
       "      <td>1.229451</td>\n",
       "      <td>-1.101831</td>\n",
       "      <td>0.952102</td>\n",
       "      <td>1.276331</td>\n",
       "      <td>0.493428</td>\n",
       "      <td>0.486407</td>\n",
       "      <td>-0.567811</td>\n",
       "      <td>1.733293</td>\n",
       "      <td>...</td>\n",
       "      <td>1.047629</td>\n",
       "      <td>-0.412253</td>\n",
       "      <td>-1.095508</td>\n",
       "      <td>0.349702</td>\n",
       "      <td>-0.268689</td>\n",
       "      <td>1.493573</td>\n",
       "      <td>-0.444374</td>\n",
       "      <td>1.861926</td>\n",
       "      <td>-0.518794</td>\n",
       "      <td>-1.480759</td>\n",
       "    </tr>\n",
       "  </tbody>\n",
       "</table>\n",
       "<p>5 rows × 64 columns</p>\n",
       "</div>"
      ],
      "text/plain": [
       "          0         1         2         3         4         5         7  \\\n",
       "0  1.020356 -2.237839  0.267407  0.431866 -0.533111 -0.797379  1.506451   \n",
       "1 -1.060382 -0.219336  0.579864  0.568762  0.309760 -0.442072 -1.028772   \n",
       "2  0.886067 -2.434851  0.955174 -1.185629 -0.320852  0.341119  1.045193   \n",
       "3 -0.653081  1.690923  1.508751 -0.090221 -0.721139 -2.140760 -0.609458   \n",
       "4  0.380710 -1.611984  1.229451 -1.101831  0.952102  1.276331  0.493428   \n",
       "\n",
       "          8         9        10  ...        60        61        62        63  \\\n",
       "0 -1.937298 -1.125738  0.186596  ...  1.411411 -0.457295  0.082750  0.704080   \n",
       "1  0.364977 -0.893599 -0.133381  ... -0.550550 -0.630130  0.396296 -0.962816   \n",
       "2  1.193327  0.690236 -1.851137  ...  1.127726  0.402794 -1.831183  0.140928   \n",
       "3 -1.343169 -0.849582  0.736096  ...  0.855331  0.222372  0.043575  0.328845   \n",
       "4  0.486407 -0.567811  1.733293  ...  1.047629 -0.412253 -1.095508  0.349702   \n",
       "\n",
       "         64        66        67        68        69        71  \n",
       "0 -0.531969  0.457251  1.216843  1.091280 -0.785043 -1.626359  \n",
       "1 -1.223015  0.992127  0.623803  0.310357  1.522291  0.100351  \n",
       "2 -0.118053 -0.044484  1.128726  1.021673  1.204840 -0.555275  \n",
       "3  0.561700  1.681620  0.073480  0.865355  1.337721 -0.973723  \n",
       "4 -0.268689  1.493573 -0.444374  1.861926 -0.518794 -1.480759  \n",
       "\n",
       "[5 rows x 64 columns]"
      ]
     },
     "execution_count": 90,
     "metadata": {},
     "output_type": "execute_result"
    }
   ],
   "source": [
    "df_val_targets_vec = pd.merge(df_val_targetsId['Expected'], df_base_sc, right_index=True, left_on='Expected')\n",
    "df_val_targets_vec.drop('Expected', axis=1, inplace=True)\n",
    "df_val_targets_vec.head()"
   ]
  },
  {
   "cell_type": "markdown",
   "id": "1d07798c",
   "metadata": {},
   "source": [
    "###   С помощью Faiss отбираем претендентов"
   ]
  },
  {
   "cell_type": "markdown",
   "id": "455cfe63",
   "metadata": {},
   "source": [
    "отбираем фаиссом ближайшие 400 соседей"
   ]
  },
  {
   "cell_type": "code",
   "execution_count": 91,
   "id": "22d7e2d1",
   "metadata": {},
   "outputs": [
    {
     "name": "stdout",
     "output_type": "stream",
     "text": [
      "Wall time: 36min 45s\n"
     ]
    },
    {
     "data": {
      "text/plain": [
       "82.308"
      ]
     },
     "execution_count": 91,
     "metadata": {},
     "output_type": "execute_result"
    }
   ],
   "source": [
    "%%time\n",
    "faiss_val = acc_faiss(50, 400, 40, df_base_droped, df_val_droped, val_targetsId)\n",
    "faiss_val[0]"
   ]
  },
  {
   "cell_type": "markdown",
   "id": "5f81e289",
   "metadata": {},
   "source": [
    "### Отбор топ-5 с помощью классификатора"
   ]
  },
  {
   "cell_type": "markdown",
   "id": "236608b7",
   "metadata": {},
   "source": [
    "Генерируем из результатов FAISS и целевых векторов признаки, съедобные для классификатора и для каждого вектора прогоняем классификатор."
   ]
  },
  {
   "cell_type": "markdown",
   "id": "7422620c",
   "metadata": {},
   "source": [
    "для LGBM"
   ]
  },
  {
   "cell_type": "code",
   "execution_count": 95,
   "id": "d50fb9c6",
   "metadata": {},
   "outputs": [
    {
     "name": "stdout",
     "output_type": "stream",
     "text": [
      "Wall time: 2min 11s\n"
     ]
    },
    {
     "data": {
      "text/plain": [
       "48.115"
      ]
     },
     "execution_count": 95,
     "metadata": {},
     "output_type": "execute_result"
    }
   ],
   "source": [
    "%%time\n",
    "\n",
    "val_sc = np.ascontiguousarray(df_val_sc.values).astype('float32')\n",
    "val_targets_vec = np.ascontiguousarray(df_val_targets_vec.values).astype('float32')\n",
    "base_index = {k: v for k, v in enumerate(df_base.index.to_list())}\n",
    "\n",
    "acc = 0\n",
    "\n",
    "for neighb100_idx, targetID, target, vec in zip(faiss_val[2], val_targetsId, val_targets_vec, val_sc):\n",
    "    neighb100 = base_sc[neighb100_idx] #нашли по индексам сами векторы - соседи \n",
    "    features = features_gen(neighb100, vec)  #сгенерировали из них фичи\n",
    "    prob = RS_lgbm.predict_proba(features)[:,1]\n",
    "    top5_feature_idx =  prob.argsort()[-5:][::-1]\n",
    "    top5_idx = neighb100_idx[top5_feature_idx]\n",
    "    #top5_vec = base_sc[top5_idx]\n",
    "    \n",
    "    acc += int(targetID in [base_index[r] for r in top5_idx])  \n",
    "        \n",
    "result = 100 * acc / len(val_sc)\n",
    "result"
   ]
  },
  {
   "cell_type": "markdown",
   "id": "84346926",
   "metadata": {},
   "source": [
    "для CatBoost"
   ]
  },
  {
   "cell_type": "code",
   "execution_count": 124,
   "id": "8e260783",
   "metadata": {},
   "outputs": [
    {
     "name": "stdout",
     "output_type": "stream",
     "text": [
      "Wall time: 3min 46s\n"
     ]
    },
    {
     "data": {
      "text/plain": [
       "65.392"
      ]
     },
     "execution_count": 124,
     "metadata": {},
     "output_type": "execute_result"
    }
   ],
   "source": [
    "%%time\n",
    "\n",
    "acc = 0\n",
    "\n",
    "for neighb100_idx, targetID, target, vec in zip(faiss_val[2], val_targetsId, val_targets_vec, val_sc):\n",
    "    neighb100 = base_sc[neighb100_idx] #нашли по индексам сами векторы - соседи \n",
    "    features = features_gen(neighb100, vec)  #сгенерировали из них фичи\n",
    "    prob = RS_CB.predict_proba(features)[:,1]\n",
    "    top5_feature_idx =  prob.argsort()[-5:][::-1]\n",
    "    top5_idx = neighb100_idx[top5_feature_idx]\n",
    "    #top5_vec = base_sc[top5_idx]\n",
    "    \n",
    "    acc += int(targetID in [base_index[r] for r in top5_idx])  \n",
    "        \n",
    "result = 100 * acc / len(val_sc)\n",
    "result"
   ]
  },
  {
   "cell_type": "markdown",
   "id": "dee0fef6",
   "metadata": {},
   "source": [
    "Для stack"
   ]
  },
  {
   "cell_type": "code",
   "execution_count": 128,
   "id": "3deb7a24",
   "metadata": {},
   "outputs": [
    {
     "name": "stdout",
     "output_type": "stream",
     "text": [
      "Wall time: 5min 14s\n"
     ]
    },
    {
     "data": {
      "text/plain": [
       "53.496"
      ]
     },
     "execution_count": 128,
     "metadata": {},
     "output_type": "execute_result"
    }
   ],
   "source": [
    "%%time\n",
    "\n",
    "acc = 0\n",
    "\n",
    "for neighb100_idx, targetID, target, vec in zip(faiss_val[2], val_targetsId, val_targets_vec, val_sc):\n",
    "    neighb100 = base_sc[neighb100_idx] #нашли по индексам сами векторы - соседи \n",
    "    features = features_gen(neighb100, vec)  #сгенерировали из них фичи\n",
    "    prob = model_stack.predict_proba(features)[:,1]\n",
    "    top5_feature_idx =  prob.argsort()[-5:][::-1]\n",
    "    top5_idx = neighb100_idx[top5_feature_idx]\n",
    "    #top5_vec = base_sc[top5_idx]\n",
    "    \n",
    "    acc += int(targetID in [base_index[r] for r in top5_idx])  \n",
    "        \n",
    "result = 100 * acc / len(val_sc)\n",
    "result"
   ]
  },
  {
   "cell_type": "markdown",
   "id": "c47a4f5f",
   "metadata": {},
   "source": [
    "Почему-то для стэкнутого варианта, точность вышла хуже, чем для отдельного катбуста."
   ]
  },
  {
   "cell_type": "markdown",
   "id": "08031357",
   "metadata": {},
   "source": [
    "## Вывод"
   ]
  },
  {
   "cell_type": "markdown",
   "id": "3e8823b6",
   "metadata": {},
   "source": [
    "Итоговая точность получилась на lgbm 48%, а на Catboost 65% :("
   ]
  }
 ],
 "metadata": {
  "kernelspec": {
   "display_name": "Python 3 (ipykernel)",
   "language": "python",
   "name": "python3"
  },
  "language_info": {
   "codemirror_mode": {
    "name": "ipython",
    "version": 3
   },
   "file_extension": ".py",
   "mimetype": "text/x-python",
   "name": "python",
   "nbconvert_exporter": "python",
   "pygments_lexer": "ipython3",
   "version": "3.9.13"
  },
  "toc": {
   "base_numbering": 1,
   "nav_menu": {},
   "number_sections": true,
   "sideBar": false,
   "skip_h1_title": false,
   "title_cell": "Table of Contents",
   "title_sidebar": "Contents",
   "toc_cell": false,
   "toc_position": {
    "height": "855px",
    "left": "27px",
    "top": "110.156px",
    "width": "262.471px"
   },
   "toc_section_display": true,
   "toc_window_display": true
  }
 },
 "nbformat": 4,
 "nbformat_minor": 5
}
